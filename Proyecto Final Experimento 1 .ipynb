{
 "cells": [
  {
   "cell_type": "markdown",
   "metadata": {},
   "source": [
    "# Descripcion del problema\n",
    "\n",
    "\n",
    "Informacion relevante:\n",
    "\n",
    "   Los datos están relacionados con las campañas de marketing  de una institución bancaria portuguesa.\n",
    "   Las campañas de marketing se basaron en llamadas telefónicas. A menudo, se requería más de un contacto para el mismo cliente,\n",
    "   con el fin de acceder a un credito bancario  y si esta o no interesado \n",
    "   \n",
    "   Informacion sobre el conjunto de datos \n",
    "   \n",
    "   El conjuto de datos original contiene 45.211 registros y 16 atributos + la clase obejetivo con dos categoria si o no,\n",
    "   Luego de Cargar y dividir los datos los conjuntos de datos quedan asi:\n",
    "  \n",
    "    1) trai = 31.647 instancias 16 atributos mas la clase\n",
    "    2) test = 13.564 instancias 16 atributos mas la \n",
    "    3) split-test = 3.164 (10%) del tain . instancias 16 atributos mas la clase"
   ]
  },
  {
   "cell_type": "markdown",
   "metadata": {},
   "source": [
    "## Preparación de datos\n",
    "importamos todas las librerías necesarias para trabajar Aprendizaje Automático con Python y Sci-kit learn"
   ]
  },
  {
   "cell_type": "code",
   "execution_count": 113,
   "metadata": {},
   "outputs": [
    {
     "name": "stdout",
     "output_type": "stream",
     "text": [
      "Once deleted, variables cannot be recovered. Proceed (y/[n])? y\n"
     ]
    }
   ],
   "source": [
    "%reset\n"
   ]
  },
  {
   "cell_type": "code",
   "execution_count": 114,
   "metadata": {},
   "outputs": [],
   "source": [
    "import numpy as np\n",
    "import pandas as pd\n",
    "import matplotlib.pyplot as plt\n",
    "import itertools\n",
    "from sklearn import metrics\n",
    "from sklearn.model_selection import train_test_split\n",
    "from sklearn import preprocessing\n",
    "from sklearn import tree\n",
    "from sklearn import svm\n",
    "from sklearn import neighbors\n",
    "from sklearn.neighbors import KNeighborsClassifier\n",
    "import io\n",
    "import requests\n",
    "from sklearn.metrics import classification_report, confusion_matrix"
   ]
  },
  {
   "cell_type": "markdown",
   "metadata": {},
   "source": [
    "##### 1) bank-full.csv contiene (4521) instancias y 17 atributos , ordenados por fecha (desde mayo de 2008 hasta noviembre de 2010)."
   ]
  },
  {
   "cell_type": "code",
   "execution_count": 115,
   "metadata": {},
   "outputs": [
    {
     "data": {
      "text/html": [
       "<div>\n",
       "<style scoped>\n",
       "    .dataframe tbody tr th:only-of-type {\n",
       "        vertical-align: middle;\n",
       "    }\n",
       "\n",
       "    .dataframe tbody tr th {\n",
       "        vertical-align: top;\n",
       "    }\n",
       "\n",
       "    .dataframe thead th {\n",
       "        text-align: right;\n",
       "    }\n",
       "</style>\n",
       "<table border=\"1\" class=\"dataframe\">\n",
       "  <thead>\n",
       "    <tr style=\"text-align: right;\">\n",
       "      <th></th>\n",
       "      <th>age</th>\n",
       "      <th>job</th>\n",
       "      <th>marital</th>\n",
       "      <th>education</th>\n",
       "      <th>default</th>\n",
       "      <th>balance</th>\n",
       "      <th>housing</th>\n",
       "      <th>loan</th>\n",
       "      <th>contact</th>\n",
       "      <th>day</th>\n",
       "      <th>month</th>\n",
       "      <th>duration</th>\n",
       "      <th>campaign</th>\n",
       "      <th>pdays</th>\n",
       "      <th>previous</th>\n",
       "      <th>poutcome</th>\n",
       "      <th>C</th>\n",
       "    </tr>\n",
       "  </thead>\n",
       "  <tbody>\n",
       "    <tr>\n",
       "      <th>0</th>\n",
       "      <td>40</td>\n",
       "      <td>4</td>\n",
       "      <td>1</td>\n",
       "      <td>2</td>\n",
       "      <td>0</td>\n",
       "      <td>3036</td>\n",
       "      <td>1</td>\n",
       "      <td>0</td>\n",
       "      <td>2</td>\n",
       "      <td>4</td>\n",
       "      <td>8</td>\n",
       "      <td>261</td>\n",
       "      <td>0</td>\n",
       "      <td>0</td>\n",
       "      <td>0</td>\n",
       "      <td>3</td>\n",
       "      <td>0</td>\n",
       "    </tr>\n",
       "    <tr>\n",
       "      <th>1</th>\n",
       "      <td>26</td>\n",
       "      <td>9</td>\n",
       "      <td>2</td>\n",
       "      <td>1</td>\n",
       "      <td>0</td>\n",
       "      <td>945</td>\n",
       "      <td>1</td>\n",
       "      <td>0</td>\n",
       "      <td>2</td>\n",
       "      <td>4</td>\n",
       "      <td>8</td>\n",
       "      <td>151</td>\n",
       "      <td>0</td>\n",
       "      <td>0</td>\n",
       "      <td>0</td>\n",
       "      <td>3</td>\n",
       "      <td>0</td>\n",
       "    </tr>\n",
       "    <tr>\n",
       "      <th>2</th>\n",
       "      <td>15</td>\n",
       "      <td>2</td>\n",
       "      <td>1</td>\n",
       "      <td>1</td>\n",
       "      <td>0</td>\n",
       "      <td>918</td>\n",
       "      <td>1</td>\n",
       "      <td>1</td>\n",
       "      <td>2</td>\n",
       "      <td>4</td>\n",
       "      <td>8</td>\n",
       "      <td>76</td>\n",
       "      <td>0</td>\n",
       "      <td>0</td>\n",
       "      <td>0</td>\n",
       "      <td>3</td>\n",
       "      <td>0</td>\n",
       "    </tr>\n",
       "    <tr>\n",
       "      <th>3</th>\n",
       "      <td>29</td>\n",
       "      <td>1</td>\n",
       "      <td>1</td>\n",
       "      <td>3</td>\n",
       "      <td>0</td>\n",
       "      <td>2420</td>\n",
       "      <td>1</td>\n",
       "      <td>0</td>\n",
       "      <td>2</td>\n",
       "      <td>4</td>\n",
       "      <td>8</td>\n",
       "      <td>92</td>\n",
       "      <td>0</td>\n",
       "      <td>0</td>\n",
       "      <td>0</td>\n",
       "      <td>3</td>\n",
       "      <td>0</td>\n",
       "    </tr>\n",
       "    <tr>\n",
       "      <th>4</th>\n",
       "      <td>15</td>\n",
       "      <td>11</td>\n",
       "      <td>2</td>\n",
       "      <td>3</td>\n",
       "      <td>0</td>\n",
       "      <td>917</td>\n",
       "      <td>0</td>\n",
       "      <td>0</td>\n",
       "      <td>2</td>\n",
       "      <td>4</td>\n",
       "      <td>8</td>\n",
       "      <td>198</td>\n",
       "      <td>0</td>\n",
       "      <td>0</td>\n",
       "      <td>0</td>\n",
       "      <td>3</td>\n",
       "      <td>0</td>\n",
       "    </tr>\n",
       "  </tbody>\n",
       "</table>\n",
       "</div>"
      ],
      "text/plain": [
       "   age  job  marital  education  default  balance  housing  loan  contact  \\\n",
       "0   40    4        1          2        0     3036        1     0        2   \n",
       "1   26    9        2          1        0      945        1     0        2   \n",
       "2   15    2        1          1        0      918        1     1        2   \n",
       "3   29    1        1          3        0     2420        1     0        2   \n",
       "4   15   11        2          3        0      917        0     0        2   \n",
       "\n",
       "   day  month  duration  campaign  pdays  previous  poutcome  C  \n",
       "0    4      8       261         0      0         0         3  0  \n",
       "1    4      8       151         0      0         0         3  0  \n",
       "2    4      8        76         0      0         0         3  0  \n",
       "3    4      8        92         0      0         0         3  0  \n",
       "4    4      8       198         0      0         0         3  0  "
      ]
     },
     "execution_count": 115,
     "metadata": {},
     "output_type": "execute_result"
    }
   ],
   "source": [
    "ds_ = pd.read_csv('bank-full.csv', sep=';', na_values=\" ?\" )# se carga el cojunto de datos csv\n",
    "ds = ds_.dropna() # se elimina las filas/columnas con valores null\n",
    "ds = ds.rename(columns = {ds.columns.values[16]:'C'}) # renombramos la ultima columna por \"C\" de clase\n",
    "le = preprocessing.LabelEncoder() # Label encoder de sci-kit\n",
    "ds = ds.apply(le.fit_transform) # Convertimos los valores de object a numericos\n",
    "ds.head() # se verifica el resultado de cargue de los datos "
   ]
  },
  {
   "cell_type": "markdown",
   "metadata": {},
   "source": [
    "##### Se grafican las clases para observar la proporción entre clases.\n",
    "Adicionalmente se graficaron todos los atributos para verificar que no hubiese valores atípicos en las columnas \n",
    "Nota se omite el resultado de estas graficas porque no encontraron valores atípicos\n"
   ]
  },
  {
   "cell_type": "code",
   "execution_count": 116,
   "metadata": {},
   "outputs": [
    {
     "name": "stdout",
     "output_type": "stream",
     "text": [
      "Clase 0: 39922\n",
      "Clase 1: 5289\n",
      "Proporcion: 7.55 : clase[0] / clase[1]\n"
     ]
    },
    {
     "data": {
      "image/png": "[encoded data removed]",
      "text/plain": [
       "<Figure size 432x288 with 1 Axes>"
      ]
     },
     "metadata": {},
     "output_type": "display_data"
    }
   ],
   "source": [
    "target_count =ds['C'].value_counts() \n",
    "print('Clase 0:', target_count[0])\n",
    "print('Clase 1:', target_count[1])\n",
    "print('Proporcion:', round(target_count[0] / target_count[1]  , 2), ': clase[0] / clase[1]')\n",
    "target_count.plot(kind='bar', title='Contador  (Clases-C)');"
   ]
  },
  {
   "cell_type": "markdown",
   "metadata": {},
   "source": [
    "### Balanceo de clases en conjunto de datos con undersampling\n",
    "\n",
    "Dado que las clases están desbalanceadas, se procede a hacer el balanceo de clases usando la técnica de undersampling , la cual consiste en iguales la clase mayoritaria al  numero de instacias de la clase minoritaria .\n",
    "Nota: Inicialmente se realizaron pruebas con las clases desbalanceadas y se observo que la capacidad de generalizacion del  clasificador muy regular en todas las tecnicas de clasificacion esperimentadas los resultados de esta primera iteracion se omitieron para no generar codigo adicional. "
   ]
  },
  {
   "cell_type": "code",
   "execution_count": 117,
   "metadata": {},
   "outputs": [
    {
     "data": {
      "text/plain": [
       "1    5289\n",
       "0    5289\n",
       "Name: C, dtype: int64"
      ]
     },
     "execution_count": 117,
     "metadata": {},
     "output_type": "execute_result"
    }
   ],
   "source": [
    "from sklearn.utils import resample\n",
    "# separar las clases entre mayoritaria y minoritaria \n",
    "ds_majority = ds[ds.C ==0]\n",
    "ds_minorityd = ds[ds.C ==1]\n",
    "\n",
    "# sobre muestrear las clases minoritarias\n",
    "ds_majority_downsampled = resample(ds_majority, \n",
    "                                 replace=False,     # Muestreo sin remplaso\n",
    "                                 n_samples=5289,    # cantidad de muestra a igualar\n",
    "                                 random_state=123) \n",
    "\n",
    "\n",
    "\n",
    "# concaternar la clase mayoritaria con la clases minoritarias creadas recientemente\n",
    "ds_downsampled = pd.concat([ds_majority_downsampled,ds_minorityd ])\n",
    " \n",
    "# imprimir el numero de muestras por clase\n",
    "ds_downsampled.C.value_counts()\n"
   ]
  },
  {
   "cell_type": "markdown",
   "metadata": {},
   "source": [
    "## Dividir el conjunto de datos \n",
    "Dividir aleatoriamente el conjunto de datos cargado y normalizado en anterior paso en \"ds\"  70% para train y 30% para test,\n",
    "adicionalmente se extraera 10% de los datos de train para crear el conjunto de validadcion "
   ]
  },
  {
   "cell_type": "code",
   "execution_count": 118,
   "metadata": {},
   "outputs": [
    {
     "name": "stdout",
     "output_type": "stream",
     "text": [
      "Conteo de clases conjunto train Counter({1: 3721, 0: 3683})\n",
      "Conteo de Clases conjunto test  Counter({0: 1606, 1: 1568})\n",
      "Conteo de Clases conjunto train Validacion  Counter({0: 3333, 1: 3330})\n",
      "Conteo de Clases conjunto test Validacion   Counter({1: 391, 0: 350})\n"
     ]
    }
   ],
   "source": [
    "ds=ds_downsampled\n",
    "import numpy as np\n",
    "from sklearn.model_selection import train_test_split\n",
    "x=ds.drop('C', axis = 1)\n",
    "y=ds['C']\n",
    "from collections import Counter\n",
    "x_train, x_test, y_train, y_test = train_test_split(x, y, test_size = 0.3, random_state=1)\n",
    "x_strainval, x_stestval, y_strainval,y_stestval = train_test_split(x_train,y_train, test_size = 0.1, random_state=1)\n",
    "print('Conteo de clases conjunto train {}'.format(Counter(y_train)))\n",
    "print('Conteo de Clases conjunto test  {}'.format(Counter(y_test)))\n",
    "print('Conteo de Clases conjunto train Validacion  {}'.format(Counter( y_strainval)))\n",
    "print('Conteo de Clases conjunto test Validacion   {}'.format(Counter( y_stestval)))\n"
   ]
  },
  {
   "cell_type": "code",
   "execution_count": 119,
   "metadata": {},
   "outputs": [],
   "source": [
    "#se crean dos dataframe df=train dt=test\n",
    "df=pd.DataFrame(x_train)\n",
    "df['C']=y_train\n",
    "dt=pd.DataFrame(x_test)\n",
    "dt['C']=y_test\n"
   ]
  },
  {
   "cell_type": "markdown",
   "metadata": {},
   "source": [
    "Se verifica nuevamente la distribucion de las clases luego de undersampling. "
   ]
  },
  {
   "cell_type": "code",
   "execution_count": 64,
   "metadata": {},
   "outputs": [
    {
     "name": "stdout",
     "output_type": "stream",
     "text": [
      "Clase 0: 5289\n",
      "Clase 1: 5289\n",
      "Proporcion: 1.0 : clase[0] / clase[1]\n"
     ]
    },
    {
     "data": {
      "image/png": "[encoded data removed]",
      "text/plain": [
       "<Figure size 432x288 with 1 Axes>"
      ]
     },
     "metadata": {},
     "output_type": "display_data"
    }
   ],
   "source": [
    "target_count =ds['C'].value_counts() \n",
    "print('Clase 0:', target_count[0])\n",
    "print('Clase 1:', target_count[1])\n",
    "print('Proporcion:', round(target_count[0] / target_count[1]  , 2), ': clase[0] / clase[1]')\n",
    "target_count.plot(kind='bar', title='Contador  (Clases-C)');"
   ]
  },
  {
   "cell_type": "markdown",
   "metadata": {},
   "source": [
    "Se realiza una matriz de correlacion para observar datos con alta correlacion. por ahora no se toman decisiones al respecto."
   ]
  },
  {
   "cell_type": "code",
   "execution_count": 65,
   "metadata": {},
   "outputs": [
    {
     "data": {
      "text/plain": [
       "<matplotlib.axes._subplots.AxesSubplot at 0x79d2de6668>"
      ]
     },
     "execution_count": 65,
     "metadata": {},
     "output_type": "execute_result"
    },
    {
     "data": {
      "image/png": "[encoded data removed]",
      "text/plain": [
       "<Figure size 432x288 with 2 Axes>"
      ]
     },
     "metadata": {},
     "output_type": "display_data"
    }
   ],
   "source": [
    "import seaborn as sns \n",
    "corr = ds.corr() \n",
    "sns.heatmap(corr, \n",
    "      xticklabels=corr.columns.values, \n",
    "      yticklabels=corr.columns.values) "
   ]
  },
  {
   "cell_type": "markdown",
   "metadata": {},
   "source": [
    "se puede observa que existe una alta  correlacion evidente entre los atributos \"pdays, previous\", aunque por ahora \n",
    "no se tomara deciciones al respecto hasta no realizar las primeros experimento  con los modelos."
   ]
  },
  {
   "cell_type": "markdown",
   "metadata": {},
   "source": [
    "# Tecnica de Clasificacion # 1 (SVM)\n",
    "\n",
    "Se realizaran algunas pruebas para estimar cuales parametros permiten el mejor desempeño de la SVM, debido al alto costo \n",
    "computacional la evaluacion de dichos parametros se ralizara con conjunto de validacion .\n",
    "\n"
   ]
  },
  {
   "cell_type": "markdown",
   "metadata": {},
   "source": [
    "### Estimacion del mejor C para la SVM."
   ]
  },
  {
   "cell_type": "code",
   "execution_count": 13,
   "metadata": {},
   "outputs": [
    {
     "name": "stdout",
     "output_type": "stream",
     "text": [
      "\n",
      "############## Accuracy Linear SVM C=10.0 ##################\n",
      "0.8137651821862348\n",
      "[[286  64]\n",
      " [ 74 317]]\n",
      "\n",
      "############## Accuracy Linear SVM C=50.0 ##################\n",
      "0.8124156545209177\n",
      "[[285  65]\n",
      " [ 74 317]]\n",
      "\n",
      "############## Accuracy Linear SVM C=500.0 ##################\n",
      "0.8124156545209177\n",
      "[[285  65]\n",
      " [ 74 317]]\n"
     ]
    }
   ],
   "source": [
    "########################################################################\n",
    "#################### Linear SVM C=10.0 ##################################\n",
    "\n",
    "\n",
    "SVM10 = svm.LinearSVC(dual=False, C=1)\n",
    "SVM10.fit(x_strainval, y_strainval)\n",
    "\n",
    "SVM10_predict = SVM10.predict(x_stestval)\n",
    "\n",
    "print(\"\\n############## Accuracy Linear SVM C=10.0 ##################\")\n",
    "print(metrics.accuracy_score(y_stestval, SVM10_predict))\n",
    "print(metrics.confusion_matrix(y_stestval, SVM10_predict))\n",
    "\n",
    "########################################################################\n",
    "#################### Linear SVM C=50.0 ##################################\n",
    "\n",
    "SVM50 = svm.LinearSVC(dual=False, C=50.0)\n",
    "SVM50.fit(x_strainval, y_strainval)\n",
    "\n",
    "SVM50_predict = SVM50.predict(x_stestval)\n",
    "\n",
    "print(\"\\n############## Accuracy Linear SVM C=50.0 ##################\")\n",
    "print(metrics.accuracy_score(y_stestval, SVM50_predict))\n",
    "print(metrics.confusion_matrix(y_stestval, SVM50_predict))\n",
    "\n",
    "########################################################################\n",
    "#################### Linear SVM C=500.0 ##################################\n",
    "\n",
    "SVM50 = svm.LinearSVC(dual=False, C=500.0)\n",
    "SVM50.fit(x_strainval, y_strainval)\n",
    "\n",
    "SVM50_predict = SVM50.predict(x_stestval)\n",
    "\n",
    "print(\"\\n############## Accuracy Linear SVM C=500.0 ##################\")\n",
    "print(metrics.accuracy_score(y_stestval, SVM50_predict))\n",
    "print(metrics.confusion_matrix(y_stestval, SVM50_predict))\n"
   ]
  },
  {
   "cell_type": "markdown",
   "metadata": {},
   "source": [
    "### Evaluacion de mejor kernel (rbf, sigmoid)\n",
    "\n",
    "Como se puede observar no es posible establecer un mejor C pues todos tiene comportamietos similares \n",
    "\n",
    " "
   ]
  },
  {
   "cell_type": "markdown",
   "metadata": {},
   "source": [
    "### ******Iteracion 1.1 SVM Lineal********\n",
    "##### Se realiza la iteracion de SVM Lineal con los datos de train y test originales 45211 instacias 17atributos ,\n",
    "\n",
    "Conjunto de Datos  \n",
    "\n",
    "train = (31647 instacias y 17 atributos),\n",
    "test  = (13.564 instancias y 16 atributos sin la Clase)\n",
    "\n",
    "Dado que el mejor desempeño lo obtuvo el kernel Lineal en adelante se utilizara este."
   ]
  },
  {
   "cell_type": "code",
   "execution_count": 90,
   "metadata": {},
   "outputs": [
    {
     "name": "stdout",
     "output_type": "stream",
     "text": [
      "\n",
      "############## Accuracy Linear SVM FINAL ##################\n",
      "0.8015122873345936\n",
      "[[1314  292]\n",
      " [ 338 1230]]\n",
      "              precision    recall  f1-score   support\n",
      "\n",
      "           0       0.80      0.82      0.81      1606\n",
      "           1       0.81      0.78      0.80      1568\n",
      "\n",
      "   micro avg       0.80      0.80      0.80      3174\n",
      "   macro avg       0.80      0.80      0.80      3174\n",
      "weighted avg       0.80      0.80      0.80      3174\n",
      "\n"
     ]
    }
   ],
   "source": [
    "########################################################################\n",
    "#################### Linear SVM FINAL ##################################\n",
    "x_train =df.drop('C', axis = 1)\n",
    "y_train = df['C']\n",
    "x_test =dt.drop('C', axis = 1)\n",
    "y_test = dt['C']\n",
    "SVM = svm.LinearSVC(dual=False, C=1)\n",
    "SVM.fit(x_train, y_train)\n",
    "\n",
    "from sklearn.metrics import classification_report, confusion_matrix\n",
    "SVM_predict = SVM.predict(x_test)\n",
    "\n",
    "print(\"\\n############## Accuracy Linear SVM FINAL ##################\")\n",
    "print(metrics.accuracy_score(y_test, SVM_predict))\n",
    "print(metrics.confusion_matrix(y_test, SVM_predict))\n",
    "print(classification_report(y_test,SVM_predict))\n"
   ]
  },
  {
   "cell_type": "code",
   "execution_count": 91,
   "metadata": {},
   "outputs": [
    {
     "data": {
      "image/png": "[encoded data removed]",
      "text/plain": [
       "<Figure size 432x288 with 1 Axes>"
      ]
     },
     "metadata": {},
     "output_type": "display_data"
    }
   ],
   "source": [
    "from sklearn.metrics import roc_curve, auc\n",
    "import matplotlib.pyplot as plt\n",
    "plt.style.use('ggplot')\n",
    "%matplotlib inline\n",
    "\n",
    "fpr, tpr, _ = roc_curve(y_test, SVM_predict)\n",
    "roc_auc = auc(fpr, tpr)\n",
    "\n",
    "plt.figure()\n",
    "plt.plot(fpr, tpr, color='darkorange',\n",
    "         lw=2, label='ROC curve (area = %0.2f)' % roc_auc)\n",
    "plt.plot([0, 1], [0, 1], color='navy', lw=2, linestyle='--')\n",
    "plt.xlim([0.0, 1.0])\n",
    "plt.ylim([0.0, 1.05])\n",
    "plt.xlabel('False Positive Rate')\n",
    "plt.ylabel('True Positive Rate')\n",
    "plt.title('ROC Curve')\n",
    "plt.legend(loc=\"lower right\")\n",
    "plt.show()"
   ]
  },
  {
   "cell_type": "markdown",
   "metadata": {},
   "source": [
    "\n",
    "Se realizaron pruebas eliminando las variables que tenían alta correlación pero pese a esto los clasificadores en general no mejoraron las métricas.  También se identificó que el atributo que realmente afecta la clasificación  es atributo “duration”,  por tal razón se omite la eliminación de atributos como alternativa para mejorar la capacidad de los clasificadores. "
   ]
  },
  {
   "cell_type": "code",
   "execution_count": 120,
   "metadata": {},
   "outputs": [
    {
     "data": {
      "text/html": [
       "<div>\n",
       "<style scoped>\n",
       "    .dataframe tbody tr th:only-of-type {\n",
       "        vertical-align: middle;\n",
       "    }\n",
       "\n",
       "    .dataframe tbody tr th {\n",
       "        vertical-align: top;\n",
       "    }\n",
       "\n",
       "    .dataframe thead th {\n",
       "        text-align: right;\n",
       "    }\n",
       "</style>\n",
       "<table border=\"1\" class=\"dataframe\">\n",
       "  <thead>\n",
       "    <tr style=\"text-align: right;\">\n",
       "      <th></th>\n",
       "      <th>age</th>\n",
       "      <th>job</th>\n",
       "      <th>marital</th>\n",
       "      <th>education</th>\n",
       "      <th>default</th>\n",
       "      <th>balance</th>\n",
       "      <th>housing</th>\n",
       "      <th>loan</th>\n",
       "      <th>contact</th>\n",
       "      <th>day</th>\n",
       "      <th>month</th>\n",
       "      <th>campaign</th>\n",
       "      <th>pdays</th>\n",
       "      <th>previous</th>\n",
       "      <th>poutcome</th>\n",
       "      <th>C</th>\n",
       "    </tr>\n",
       "  </thead>\n",
       "  <tbody>\n",
       "    <tr>\n",
       "      <th>33596</th>\n",
       "      <td>9</td>\n",
       "      <td>0</td>\n",
       "      <td>1</td>\n",
       "      <td>0</td>\n",
       "      <td>0</td>\n",
       "      <td>1311</td>\n",
       "      <td>1</td>\n",
       "      <td>0</td>\n",
       "      <td>0</td>\n",
       "      <td>19</td>\n",
       "      <td>0</td>\n",
       "      <td>1</td>\n",
       "      <td>0</td>\n",
       "      <td>0</td>\n",
       "      <td>3</td>\n",
       "      <td>0</td>\n",
       "    </tr>\n",
       "    <tr>\n",
       "      <th>44792</th>\n",
       "      <td>22</td>\n",
       "      <td>2</td>\n",
       "      <td>1</td>\n",
       "      <td>2</td>\n",
       "      <td>0</td>\n",
       "      <td>4265</td>\n",
       "      <td>0</td>\n",
       "      <td>0</td>\n",
       "      <td>0</td>\n",
       "      <td>14</td>\n",
       "      <td>11</td>\n",
       "      <td>2</td>\n",
       "      <td>0</td>\n",
       "      <td>0</td>\n",
       "      <td>3</td>\n",
       "      <td>1</td>\n",
       "    </tr>\n",
       "    <tr>\n",
       "      <th>31235</th>\n",
       "      <td>16</td>\n",
       "      <td>1</td>\n",
       "      <td>2</td>\n",
       "      <td>1</td>\n",
       "      <td>0</td>\n",
       "      <td>1131</td>\n",
       "      <td>0</td>\n",
       "      <td>0</td>\n",
       "      <td>0</td>\n",
       "      <td>2</td>\n",
       "      <td>7</td>\n",
       "      <td>2</td>\n",
       "      <td>0</td>\n",
       "      <td>0</td>\n",
       "      <td>3</td>\n",
       "      <td>1</td>\n",
       "    </tr>\n",
       "    <tr>\n",
       "      <th>1863</th>\n",
       "      <td>15</td>\n",
       "      <td>1</td>\n",
       "      <td>0</td>\n",
       "      <td>0</td>\n",
       "      <td>0</td>\n",
       "      <td>1306</td>\n",
       "      <td>1</td>\n",
       "      <td>0</td>\n",
       "      <td>2</td>\n",
       "      <td>8</td>\n",
       "      <td>8</td>\n",
       "      <td>1</td>\n",
       "      <td>0</td>\n",
       "      <td>0</td>\n",
       "      <td>3</td>\n",
       "      <td>1</td>\n",
       "    </tr>\n",
       "    <tr>\n",
       "      <th>20316</th>\n",
       "      <td>13</td>\n",
       "      <td>4</td>\n",
       "      <td>1</td>\n",
       "      <td>1</td>\n",
       "      <td>0</td>\n",
       "      <td>916</td>\n",
       "      <td>0</td>\n",
       "      <td>0</td>\n",
       "      <td>0</td>\n",
       "      <td>10</td>\n",
       "      <td>1</td>\n",
       "      <td>0</td>\n",
       "      <td>0</td>\n",
       "      <td>0</td>\n",
       "      <td>3</td>\n",
       "      <td>1</td>\n",
       "    </tr>\n",
       "  </tbody>\n",
       "</table>\n",
       "</div>"
      ],
      "text/plain": [
       "       age  job  marital  education  default  balance  housing  loan  contact  \\\n",
       "33596    9    0        1          0        0     1311        1     0        0   \n",
       "44792   22    2        1          2        0     4265        0     0        0   \n",
       "31235   16    1        2          1        0     1131        0     0        0   \n",
       "1863    15    1        0          0        0     1306        1     0        2   \n",
       "20316   13    4        1          1        0      916        0     0        0   \n",
       "\n",
       "       day  month  campaign  pdays  previous  poutcome  C  \n",
       "33596   19      0         1      0         0         3  0  \n",
       "44792   14     11         2      0         0         3  1  \n",
       "31235    2      7         2      0         0         3  1  \n",
       "1863     8      8         1      0         0         3  1  \n",
       "20316   10      1         0      0         0         3  1  "
      ]
     },
     "execution_count": 120,
     "metadata": {},
     "output_type": "execute_result"
    }
   ],
   "source": [
    "#%reset\n",
    "del df['duration']\n",
    "#del df['previous']\n",
    "#del dt['contact']\n",
    "del dt['duration']\n",
    "\n",
    "df.head()"
   ]
  },
  {
   "cell_type": "code",
   "execution_count": 121,
   "metadata": {},
   "outputs": [
    {
     "data": {
      "text/plain": [
       "<matplotlib.axes._subplots.AxesSubplot at 0x79cbff2710>"
      ]
     },
     "execution_count": 121,
     "metadata": {},
     "output_type": "execute_result"
    },
    {
     "data": {
      "image/png": "[encoded data removed]",
      "text/plain": [
       "<Figure size 432x288 with 2 Axes>"
      ]
     },
     "metadata": {},
     "output_type": "display_data"
    }
   ],
   "source": [
    "import seaborn as sns \n",
    "corr = df.corr() \n",
    "sns.heatmap(corr, \n",
    "      xticklabels=corr.columns.values, \n",
    "      yticklabels=corr.columns.values) "
   ]
  },
  {
   "cell_type": "markdown",
   "metadata": {},
   "source": [
    "### ******Iteracion 1.1 SVM Lineal********\n",
    "\n",
    "Conjunto de Datos 45211 instacias 15 atributos\n",
    "\n",
    "train = (31647 instacias y 15 atributos),\n",
    "test  = (13.564 instancias y 14 atributos sin la Clase)\n",
    "\n"
   ]
  },
  {
   "cell_type": "code",
   "execution_count": 122,
   "metadata": {},
   "outputs": [
    {
     "name": "stdout",
     "output_type": "stream",
     "text": [
      "\n",
      "############## Accuracy Linear SVM FINAL ##################\n",
      "0.6414618777567738\n",
      "[[ 928  678]\n",
      " [ 460 1108]]\n",
      "              precision    recall  f1-score   support\n",
      "\n",
      "           0       0.67      0.58      0.62      1606\n",
      "           1       0.62      0.71      0.66      1568\n",
      "\n",
      "   micro avg       0.64      0.64      0.64      3174\n",
      "   macro avg       0.64      0.64      0.64      3174\n",
      "weighted avg       0.64      0.64      0.64      3174\n",
      "\n"
     ]
    }
   ],
   "source": [
    "########################################################################\n",
    "#################### Linear SVM FINAL ##################################\n",
    "xntrain =df.drop('C', axis = 1)\n",
    "yntrain = df['C']\n",
    "xntest =dt.drop('C', axis = 1)\n",
    "yntest = dt['C']\n",
    "\n",
    "SVM = svm.LinearSVC(dual=False, C=10.0)\n",
    "SVM.fit(xntrain, yntrain)\n",
    "\n",
    "from sklearn.metrics import classification_report, confusion_matrix\n",
    "SVM_predict = SVM.predict(xntest)\n",
    "\n",
    "print(\"\\n############## Accuracy Linear SVM FINAL ##################\")\n",
    "print(metrics.accuracy_score(yntest, SVM_predict))\n",
    "print(metrics.confusion_matrix(yntest, SVM_predict))\n",
    "print(classification_report(yntest,SVM_predict))\n"
   ]
  },
  {
   "cell_type": "code",
   "execution_count": 123,
   "metadata": {},
   "outputs": [
    {
     "data": {
      "image/png": "[encoded data removed]",
      "text/plain": [
       "<Figure size 432x288 with 1 Axes>"
      ]
     },
     "metadata": {},
     "output_type": "display_data"
    }
   ],
   "source": [
    "from sklearn.metrics import roc_curve, auc\n",
    "import matplotlib.pyplot as plt\n",
    "plt.style.use('ggplot')\n",
    "%matplotlib inline\n",
    "\n",
    "fpr, tpr, _ = roc_curve(yntest, SVM_predict)\n",
    "roc_auc = auc(fpr, tpr)\n",
    "\n",
    "plt.figure()\n",
    "plt.plot(fpr, tpr, color='darkorange',\n",
    "         lw=2, label='ROC curve SVM (area = %0.2f)' % roc_auc)\n",
    "plt.plot([0, 1], [0, 1], color='navy', lw=2, linestyle='--')\n",
    "plt.xlim([0.0, 1.0])\n",
    "plt.ylim([0.0, 1.05])\n",
    "plt.xlabel('False Positive Rate')\n",
    "plt.ylabel('True Positive Rate')\n",
    "plt.title('ROC Curve')\n",
    "plt.legend(loc=\"lower right\")\n",
    "plt.show()"
   ]
  },
  {
   "cell_type": "markdown",
   "metadata": {},
   "source": [
    "##### como se puede observar el accuracy y la precision mejor en comparacion a las anteriores realizadas por tal razon los siguientes experimentos se realizaran con el conjunto de datos modificado sin la dos columnas padys y poutcome"
   ]
  },
  {
   "cell_type": "markdown",
   "metadata": {},
   "source": [
    "# Tecnica de Clasificacion # 2 (K-Vecinos mas cercanos)\n"
   ]
  },
  {
   "cell_type": "markdown",
   "metadata": {},
   "source": [
    "### ******Iteracion 2 K-NN********\n",
    "\n",
    "Dado que la eliminacion de los datos con alta correlacion mejoro la clasificacion en SVM en adelante,\n",
    "se utilizara este mismo conjunto de datos. \n",
    "\n",
    "\n",
    "Conjunto de Datos 45211 instacias 15 atributos\n",
    "\n",
    "train = (31647 instacias y 15 atributos),\n",
    "test  = (13.564 instancias y 14 atributos sin la Clase)"
   ]
  },
  {
   "cell_type": "code",
   "execution_count": 124,
   "metadata": {},
   "outputs": [
    {
     "name": "stdout",
     "output_type": "stream",
     "text": [
      "\n",
      "############## Accuracy KNN ##################\n",
      "0.5982986767485823\n",
      "[[1074  532]\n",
      " [ 743  825]]\n",
      "              precision    recall  f1-score   support\n",
      "\n",
      "           0       0.59      0.67      0.63      1606\n",
      "           1       0.61      0.53      0.56      1568\n",
      "\n",
      "   micro avg       0.60      0.60      0.60      3174\n",
      "   macro avg       0.60      0.60      0.60      3174\n",
      "weighted avg       0.60      0.60      0.60      3174\n",
      "\n"
     ]
    },
    {
     "data": {
      "text/html": [
       "<div>\n",
       "<style scoped>\n",
       "    .dataframe tbody tr th:only-of-type {\n",
       "        vertical-align: middle;\n",
       "    }\n",
       "\n",
       "    .dataframe tbody tr th {\n",
       "        vertical-align: top;\n",
       "    }\n",
       "\n",
       "    .dataframe thead th {\n",
       "        text-align: right;\n",
       "    }\n",
       "</style>\n",
       "<table border=\"1\" class=\"dataframe\">\n",
       "  <thead>\n",
       "    <tr style=\"text-align: right;\">\n",
       "      <th></th>\n",
       "      <th>age</th>\n",
       "      <th>job</th>\n",
       "      <th>marital</th>\n",
       "      <th>education</th>\n",
       "      <th>default</th>\n",
       "      <th>balance</th>\n",
       "      <th>housing</th>\n",
       "      <th>loan</th>\n",
       "      <th>contact</th>\n",
       "      <th>day</th>\n",
       "      <th>month</th>\n",
       "      <th>campaign</th>\n",
       "      <th>pdays</th>\n",
       "      <th>previous</th>\n",
       "      <th>poutcome</th>\n",
       "    </tr>\n",
       "  </thead>\n",
       "  <tbody>\n",
       "    <tr>\n",
       "      <th>36300</th>\n",
       "      <td>10</td>\n",
       "      <td>2</td>\n",
       "      <td>1</td>\n",
       "      <td>2</td>\n",
       "      <td>0</td>\n",
       "      <td>4590</td>\n",
       "      <td>0</td>\n",
       "      <td>1</td>\n",
       "      <td>0</td>\n",
       "      <td>10</td>\n",
       "      <td>8</td>\n",
       "      <td>1</td>\n",
       "      <td>0</td>\n",
       "      <td>0</td>\n",
       "      <td>3</td>\n",
       "    </tr>\n",
       "    <tr>\n",
       "      <th>28914</th>\n",
       "      <td>18</td>\n",
       "      <td>1</td>\n",
       "      <td>1</td>\n",
       "      <td>1</td>\n",
       "      <td>0</td>\n",
       "      <td>1853</td>\n",
       "      <td>1</td>\n",
       "      <td>0</td>\n",
       "      <td>1</td>\n",
       "      <td>1</td>\n",
       "      <td>3</td>\n",
       "      <td>3</td>\n",
       "      <td>0</td>\n",
       "      <td>0</td>\n",
       "      <td>3</td>\n",
       "    </tr>\n",
       "    <tr>\n",
       "      <th>42698</th>\n",
       "      <td>9</td>\n",
       "      <td>8</td>\n",
       "      <td>2</td>\n",
       "      <td>1</td>\n",
       "      <td>0</td>\n",
       "      <td>3133</td>\n",
       "      <td>0</td>\n",
       "      <td>0</td>\n",
       "      <td>0</td>\n",
       "      <td>17</td>\n",
       "      <td>4</td>\n",
       "      <td>0</td>\n",
       "      <td>0</td>\n",
       "      <td>0</td>\n",
       "      <td>3</td>\n",
       "    </tr>\n",
       "    <tr>\n",
       "      <th>28689</th>\n",
       "      <td>42</td>\n",
       "      <td>9</td>\n",
       "      <td>1</td>\n",
       "      <td>2</td>\n",
       "      <td>0</td>\n",
       "      <td>845</td>\n",
       "      <td>1</td>\n",
       "      <td>1</td>\n",
       "      <td>0</td>\n",
       "      <td>29</td>\n",
       "      <td>4</td>\n",
       "      <td>0</td>\n",
       "      <td>0</td>\n",
       "      <td>0</td>\n",
       "      <td>3</td>\n",
       "    </tr>\n",
       "    <tr>\n",
       "      <th>44742</th>\n",
       "      <td>46</td>\n",
       "      <td>11</td>\n",
       "      <td>1</td>\n",
       "      <td>3</td>\n",
       "      <td>0</td>\n",
       "      <td>3634</td>\n",
       "      <td>0</td>\n",
       "      <td>0</td>\n",
       "      <td>1</td>\n",
       "      <td>8</td>\n",
       "      <td>11</td>\n",
       "      <td>3</td>\n",
       "      <td>0</td>\n",
       "      <td>0</td>\n",
       "      <td>3</td>\n",
       "    </tr>\n",
       "  </tbody>\n",
       "</table>\n",
       "</div>"
      ],
      "text/plain": [
       "       age  job  marital  education  default  balance  housing  loan  contact  \\\n",
       "36300   10    2        1          2        0     4590        0     1        0   \n",
       "28914   18    1        1          1        0     1853        1     0        1   \n",
       "42698    9    8        2          1        0     3133        0     0        0   \n",
       "28689   42    9        1          2        0      845        1     1        0   \n",
       "44742   46   11        1          3        0     3634        0     0        1   \n",
       "\n",
       "       day  month  campaign  pdays  previous  poutcome  \n",
       "36300   10      8         1      0         0         3  \n",
       "28914    1      3         3      0         0         3  \n",
       "42698   17      4         0      0         0         3  \n",
       "28689   29      4         0      0         0         3  \n",
       "44742    8     11         3      0         0         3  "
      ]
     },
     "execution_count": 124,
     "metadata": {},
     "output_type": "execute_result"
    }
   ],
   "source": [
    "################################################################\n",
    "##################  K-Vecinos más cercanos #####################\n",
    "################################################################\n",
    "xntrain =df.drop('C', axis = 1)\n",
    "yntrain = df['C']\n",
    "xntest =dt.drop('C', axis = 1)\n",
    "yntest = dt['C']\n",
    "n_neighbors = 17\n",
    "KNN = KNeighborsClassifier(n_neighbors)\n",
    "KNN.fit(xntrain, yntrain)\n",
    "KNN_predict = KNN.predict(xntest)\n",
    "\n",
    "print(\"\\n############## Accuracy KNN ##################\")\n",
    "print(metrics.accuracy_score(yntest, KNN_predict))\n",
    "print(metrics.confusion_matrix(yntest, KNN_predict))\n",
    "print(classification_report(yntest,KNN_predict))\n",
    "xntest.head()"
   ]
  },
  {
   "cell_type": "code",
   "execution_count": 125,
   "metadata": {},
   "outputs": [
    {
     "data": {
      "image/png": "[encoded data removed]",
      "text/plain": [
       "<Figure size 432x288 with 1 Axes>"
      ]
     },
     "metadata": {},
     "output_type": "display_data"
    }
   ],
   "source": [
    "from sklearn.metrics import roc_curve, auc\n",
    "import matplotlib.pyplot as plt\n",
    "plt.style.use('ggplot')\n",
    "%matplotlib inline\n",
    "\n",
    "fpr, tpr, _ = roc_curve(yntest, KNN_predict)\n",
    "roc_auc = auc(fpr, tpr)\n",
    "\n",
    "plt.figure()\n",
    "plt.plot(fpr, tpr, color='darkgreen',\n",
    "         lw=2, label='ROC curve KNN(area = %0.2f)' % roc_auc)\n",
    "plt.plot([0, 1], [0, 1], color='navy', lw=2, linestyle='--')\n",
    "plt.xlim([0.0, 1.0])\n",
    "plt.ylim([0.0, 1.05])\n",
    "plt.xlabel('False Positive Rate')\n",
    "plt.ylabel('True Positive Rate')\n",
    "plt.title('ROC Curve')\n",
    "plt.legend(loc=\"lower right\")\n",
    "plt.show()"
   ]
  },
  {
   "cell_type": "markdown",
   "metadata": {},
   "source": [
    "# Tecnica de Clasificacion # 3 (Redes neuronales MLP)"
   ]
  },
  {
   "cell_type": "markdown",
   "metadata": {},
   "source": [
    "##### Se probaran diferentes opciones de arquitectura el evaluar la mejor configuracion del MLP"
   ]
  },
  {
   "cell_type": "code",
   "execution_count": 110,
   "metadata": {},
   "outputs": [
    {
     "name": "stdout",
     "output_type": "stream",
     "text": [
      "\n",
      "############## Accuracy MLP ##################\n",
      "0.786774628879892\n",
      "[[256  94]\n",
      " [ 64 327]]\n"
     ]
    },
    {
     "ename": "ValueError",
     "evalue": "Found input variables with inconsistent numbers of samples: [3174, 741]",
     "output_type": "error",
     "traceback": [
      "\u001b[1;31m---------------------------------------------------------------------------\u001b[0m",
      "\u001b[1;31mValueError\u001b[0m                                Traceback (most recent call last)",
      "\u001b[1;32m<ipython-input-110-32ceabf9535f>\u001b[0m in \u001b[0;36m<module>\u001b[1;34m()\u001b[0m\n\u001b[0;32m     13\u001b[0m \u001b[0mprint\u001b[0m\u001b[1;33m(\u001b[0m\u001b[0mmetrics\u001b[0m\u001b[1;33m.\u001b[0m\u001b[0maccuracy_score\u001b[0m\u001b[1;33m(\u001b[0m\u001b[0my_stestval\u001b[0m\u001b[1;33m,\u001b[0m \u001b[0mclf_predict\u001b[0m\u001b[1;33m)\u001b[0m\u001b[1;33m)\u001b[0m\u001b[1;33m\u001b[0m\u001b[0m\n\u001b[0;32m     14\u001b[0m \u001b[0mprint\u001b[0m\u001b[1;33m(\u001b[0m\u001b[0mmetrics\u001b[0m\u001b[1;33m.\u001b[0m\u001b[0mconfusion_matrix\u001b[0m\u001b[1;33m(\u001b[0m\u001b[0my_stestval\u001b[0m\u001b[1;33m,\u001b[0m \u001b[0mclf_predict\u001b[0m\u001b[1;33m)\u001b[0m\u001b[1;33m)\u001b[0m\u001b[1;33m\u001b[0m\u001b[0m\n\u001b[1;32m---> 15\u001b[1;33m \u001b[0mprint\u001b[0m\u001b[1;33m(\u001b[0m\u001b[0mclassification_report\u001b[0m\u001b[1;33m(\u001b[0m\u001b[0my_test\u001b[0m\u001b[1;33m,\u001b[0m \u001b[0mclf_predict\u001b[0m\u001b[1;33m)\u001b[0m\u001b[1;33m)\u001b[0m\u001b[1;33m\u001b[0m\u001b[0m\n\u001b[0m\u001b[0;32m     16\u001b[0m \u001b[1;31m##########################################################################\u001b[0m\u001b[1;33m\u001b[0m\u001b[1;33m\u001b[0m\u001b[0m\n\u001b[0;32m     17\u001b[0m \u001b[1;33m\u001b[0m\u001b[0m\n",
      "\u001b[1;32m~\\Anaconda3\\lib\\site-packages\\sklearn\\metrics\\classification.py\u001b[0m in \u001b[0;36mclassification_report\u001b[1;34m(y_true, y_pred, labels, target_names, sample_weight, digits, output_dict)\u001b[0m\n\u001b[0;32m   1522\u001b[0m     \"\"\"\n\u001b[0;32m   1523\u001b[0m \u001b[1;33m\u001b[0m\u001b[0m\n\u001b[1;32m-> 1524\u001b[1;33m     \u001b[0my_type\u001b[0m\u001b[1;33m,\u001b[0m \u001b[0my_true\u001b[0m\u001b[1;33m,\u001b[0m \u001b[0my_pred\u001b[0m \u001b[1;33m=\u001b[0m \u001b[0m_check_targets\u001b[0m\u001b[1;33m(\u001b[0m\u001b[0my_true\u001b[0m\u001b[1;33m,\u001b[0m \u001b[0my_pred\u001b[0m\u001b[1;33m)\u001b[0m\u001b[1;33m\u001b[0m\u001b[0m\n\u001b[0m\u001b[0;32m   1525\u001b[0m \u001b[1;33m\u001b[0m\u001b[0m\n\u001b[0;32m   1526\u001b[0m     \u001b[0mlabels_given\u001b[0m \u001b[1;33m=\u001b[0m \u001b[1;32mTrue\u001b[0m\u001b[1;33m\u001b[0m\u001b[0m\n",
      "\u001b[1;32m~\\Anaconda3\\lib\\site-packages\\sklearn\\metrics\\classification.py\u001b[0m in \u001b[0;36m_check_targets\u001b[1;34m(y_true, y_pred)\u001b[0m\n\u001b[0;32m     69\u001b[0m     \u001b[0my_pred\u001b[0m \u001b[1;33m:\u001b[0m \u001b[0marray\u001b[0m \u001b[1;32mor\u001b[0m \u001b[0mindicator\u001b[0m \u001b[0mmatrix\u001b[0m\u001b[1;33m\u001b[0m\u001b[0m\n\u001b[0;32m     70\u001b[0m     \"\"\"\n\u001b[1;32m---> 71\u001b[1;33m     \u001b[0mcheck_consistent_length\u001b[0m\u001b[1;33m(\u001b[0m\u001b[0my_true\u001b[0m\u001b[1;33m,\u001b[0m \u001b[0my_pred\u001b[0m\u001b[1;33m)\u001b[0m\u001b[1;33m\u001b[0m\u001b[0m\n\u001b[0m\u001b[0;32m     72\u001b[0m     \u001b[0mtype_true\u001b[0m \u001b[1;33m=\u001b[0m \u001b[0mtype_of_target\u001b[0m\u001b[1;33m(\u001b[0m\u001b[0my_true\u001b[0m\u001b[1;33m)\u001b[0m\u001b[1;33m\u001b[0m\u001b[0m\n\u001b[0;32m     73\u001b[0m     \u001b[0mtype_pred\u001b[0m \u001b[1;33m=\u001b[0m \u001b[0mtype_of_target\u001b[0m\u001b[1;33m(\u001b[0m\u001b[0my_pred\u001b[0m\u001b[1;33m)\u001b[0m\u001b[1;33m\u001b[0m\u001b[0m\n",
      "\u001b[1;32m~\\Anaconda3\\lib\\site-packages\\sklearn\\utils\\validation.py\u001b[0m in \u001b[0;36mcheck_consistent_length\u001b[1;34m(*arrays)\u001b[0m\n\u001b[0;32m    228\u001b[0m     \u001b[1;32mif\u001b[0m \u001b[0mlen\u001b[0m\u001b[1;33m(\u001b[0m\u001b[0muniques\u001b[0m\u001b[1;33m)\u001b[0m \u001b[1;33m>\u001b[0m \u001b[1;36m1\u001b[0m\u001b[1;33m:\u001b[0m\u001b[1;33m\u001b[0m\u001b[0m\n\u001b[0;32m    229\u001b[0m         raise ValueError(\"Found input variables with inconsistent numbers of\"\n\u001b[1;32m--> 230\u001b[1;33m                          \" samples: %r\" % [int(l) for l in lengths])\n\u001b[0m\u001b[0;32m    231\u001b[0m \u001b[1;33m\u001b[0m\u001b[0m\n\u001b[0;32m    232\u001b[0m \u001b[1;33m\u001b[0m\u001b[0m\n",
      "\u001b[1;31mValueError\u001b[0m: Found input variables with inconsistent numbers of samples: [3174, 741]"
     ]
    }
   ],
   "source": [
    "#### ensayar diferentes opciones de arquitectura y estimar la tasa de aprendizaje\n",
    "\n",
    "from sklearn.neural_network import MLPClassifier\n",
    "from sklearn.preprocessing import StandardScaler  \n",
    "\n",
    "clf = MLPClassifier(hidden_layer_sizes=(13, 13, 13, 13, 13, 13), \n",
    "                    random_state=42, learning_rate_init=0.0016)\n",
    "clf.fit(x_strainval, y_strainval)\n",
    "\n",
    "clf_predict = clf.predict(x_stestval)\n",
    "\n",
    "print(\"\\n############## Accuracy MLP ##################\")\n",
    "print(metrics.accuracy_score(y_stestval, clf_predict))\n",
    "print(metrics.confusion_matrix(y_stestval, clf_predict))\n",
    "print(classification_report(y_test, clf_predict))\n",
    "##########################################################################\n",
    "\n",
    "clf2 = MLPClassifier(hidden_layer_sizes=(10, 10, 10, 10), \n",
    "                    random_state=42, learning_rate_init=0.001)\n",
    "clf2.fit(x_strainval, y_strainval)\n",
    "\n",
    "clf2_predict = clf2.predict(x_stestval)\n",
    "\n",
    "print(\"\\n############## Accuracy MLP ##################\")\n",
    "print(metrics.accuracy_score(y_stestval, clf2_predict))\n",
    "print(metrics.confusion_matrix(y_stestval, clf2_predict))\n",
    "print(classification_report(y_stestval, clf2_predict))\n",
    "sns.heatmap(metrics.confusion_matrix(y_stestval, clf2_predict), center=True)\n",
    "plt.show()"
   ]
  },
  {
   "cell_type": "code",
   "execution_count": 36,
   "metadata": {},
   "outputs": [
    {
     "data": {
      "image/png": "[encoded data removed]",
      "text/plain": [
       "<Figure size 432x288 with 1 Axes>"
      ]
     },
     "metadata": {},
     "output_type": "display_data"
    }
   ],
   "source": [
    "from sklearn.metrics import roc_curve, auc\n",
    "import matplotlib.pyplot as plt\n",
    "plt.style.use('ggplot')\n",
    "%matplotlib inline\n",
    "\n",
    "\n",
    "fpr, tpr, _ = roc_curve(y_stestval, clf_predict)\n",
    "roc_auc = auc(fpr, tpr)\n",
    "\n",
    "plt.figure()\n",
    "plt.plot(fpr, tpr, color='darkorange',\n",
    "         lw=2, label='ROC curve (area = %0.2f)' % roc_auc)\n",
    "plt.plot([0, 1], [0, 1], color='navy', lw=2, linestyle='--')\n",
    "plt.xlim([0.0, 1.0])\n",
    "plt.ylim([0.0, 1.05])\n",
    "plt.xlabel('False Positive Rate')\n",
    "plt.ylabel('True Positive Rate')\n",
    "plt.title('ROC Curve')\n",
    "plt.legend(loc=\"lower right\")\n",
    "plt.show()"
   ]
  },
  {
   "cell_type": "markdown",
   "metadata": {},
   "source": [
    "### ******Iteracion 3.1 Redes Neuronales MLP********\n",
    "\n",
    "\n",
    "Conjunto de Datos 45211 instacias 15 atributos\n",
    "\n",
    "train = (31647 instacias y 15 atributos),\n",
    "test  = (13.564 instancias y 14 atributos sin la Clase)"
   ]
  },
  {
   "cell_type": "code",
   "execution_count": 127,
   "metadata": {},
   "outputs": [
    {
     "name": "stdout",
     "output_type": "stream",
     "text": [
      "\n",
      "############## Accuracy MLP ##################\n",
      "0.6212980466288595\n",
      "[[981 625]\n",
      " [577 991]]\n",
      "              precision    recall  f1-score   support\n",
      "\n",
      "           0       0.63      0.61      0.62      1606\n",
      "           1       0.61      0.63      0.62      1568\n",
      "\n",
      "   micro avg       0.62      0.62      0.62      3174\n",
      "   macro avg       0.62      0.62      0.62      3174\n",
      "weighted avg       0.62      0.62      0.62      3174\n",
      "\n"
     ]
    }
   ],
   "source": [
    "xntrain =df.drop('C', axis = 1)\n",
    "yntrain = df['C']\n",
    "xntest =dt.drop('C', axis = 1)\n",
    "yntest = dt['C']\n",
    "\n",
    "from sklearn.neural_network import MLPClassifier\n",
    "\n",
    "\n",
    "clf = MLPClassifier(hidden_layer_sizes=(16,16,16,16,16,16,16,16), activation='relu',\n",
    "                    random_state=42, learning_rate_init=0.0016)\n",
    "\n",
    "clf.fit(xntrain, yntrain)\n",
    "\n",
    "clf_predict2 = clf.predict(xntest)\n",
    "\n",
    "print(\"\\n############## Accuracy MLP ##################\")\n",
    "print(metrics.accuracy_score(yntest, clf_predict2))\n",
    "print(metrics.confusion_matrix(yntest, clf_predict2))\n",
    "print(classification_report(yntest, clf_predict2))\n"
   ]
  },
  {
   "cell_type": "code",
   "execution_count": 128,
   "metadata": {},
   "outputs": [
    {
     "data": {
      "image/png": "[encoded data removed]",
      "text/plain": [
       "<Figure size 432x288 with 1 Axes>"
      ]
     },
     "metadata": {},
     "output_type": "display_data"
    }
   ],
   "source": [
    "from sklearn.metrics import roc_curve, auc\n",
    "import matplotlib.pyplot as plt\n",
    "plt.style.use('ggplot')\n",
    "%matplotlib inline\n",
    "\n",
    "fpr, tpr, _ = roc_curve(yntest, clf_predict2)\n",
    "roc_auc = auc(fpr, tpr)\n",
    "\n",
    "plt.figure()\n",
    "plt.plot(fpr, tpr, color='darkblue',\n",
    "         lw=2, label='ROC curve MLP (area = %0.2f)' % roc_auc)\n",
    "plt.plot([0, 1], [0, 1], color='navy', lw=2, linestyle='--')\n",
    "plt.xlim([0.0, 1.0])\n",
    "plt.ylim([0.0, 1.05])\n",
    "plt.xlabel('False Positive Rate')\n",
    "plt.ylabel('True Positive Rate')\n",
    "plt.title('ROC Curve')\n",
    "plt.legend(loc=\"lower right\")\n",
    "plt.show()"
   ]
  },
  {
   "cell_type": "code",
   "execution_count": 204,
   "metadata": {},
   "outputs": [
    {
     "data": {
      "text/html": [
       "<div>\n",
       "<style scoped>\n",
       "    .dataframe tbody tr th:only-of-type {\n",
       "        vertical-align: middle;\n",
       "    }\n",
       "\n",
       "    .dataframe tbody tr th {\n",
       "        vertical-align: top;\n",
       "    }\n",
       "\n",
       "    .dataframe thead th {\n",
       "        text-align: right;\n",
       "    }\n",
       "</style>\n",
       "<table border=\"1\" class=\"dataframe\">\n",
       "  <thead>\n",
       "    <tr style=\"text-align: right;\">\n",
       "      <th></th>\n",
       "      <th>age</th>\n",
       "      <th>job</th>\n",
       "      <th>education</th>\n",
       "      <th>default</th>\n",
       "      <th>balance</th>\n",
       "      <th>housing</th>\n",
       "      <th>loan</th>\n",
       "      <th>contact</th>\n",
       "      <th>day</th>\n",
       "      <th>month</th>\n",
       "      <th>duration</th>\n",
       "      <th>campaign</th>\n",
       "      <th>previous</th>\n",
       "    </tr>\n",
       "  </thead>\n",
       "  <tbody>\n",
       "    <tr>\n",
       "      <th>6149</th>\n",
       "      <td>14</td>\n",
       "      <td>1</td>\n",
       "      <td>1</td>\n",
       "      <td>1</td>\n",
       "      <td>678</td>\n",
       "      <td>1</td>\n",
       "      <td>0</td>\n",
       "      <td>2</td>\n",
       "      <td>26</td>\n",
       "      <td>8</td>\n",
       "      <td>427</td>\n",
       "      <td>0</td>\n",
       "      <td>0</td>\n",
       "    </tr>\n",
       "    <tr>\n",
       "      <th>12403</th>\n",
       "      <td>16</td>\n",
       "      <td>0</td>\n",
       "      <td>1</td>\n",
       "      <td>0</td>\n",
       "      <td>448</td>\n",
       "      <td>1</td>\n",
       "      <td>1</td>\n",
       "      <td>2</td>\n",
       "      <td>26</td>\n",
       "      <td>6</td>\n",
       "      <td>111</td>\n",
       "      <td>3</td>\n",
       "      <td>0</td>\n",
       "    </tr>\n",
       "    <tr>\n",
       "      <th>21645</th>\n",
       "      <td>14</td>\n",
       "      <td>9</td>\n",
       "      <td>1</td>\n",
       "      <td>0</td>\n",
       "      <td>1182</td>\n",
       "      <td>1</td>\n",
       "      <td>0</td>\n",
       "      <td>0</td>\n",
       "      <td>18</td>\n",
       "      <td>1</td>\n",
       "      <td>168</td>\n",
       "      <td>1</td>\n",
       "      <td>0</td>\n",
       "    </tr>\n",
       "    <tr>\n",
       "      <th>29580</th>\n",
       "      <td>18</td>\n",
       "      <td>1</td>\n",
       "      <td>1</td>\n",
       "      <td>1</td>\n",
       "      <td>929</td>\n",
       "      <td>0</td>\n",
       "      <td>1</td>\n",
       "      <td>0</td>\n",
       "      <td>2</td>\n",
       "      <td>3</td>\n",
       "      <td>150</td>\n",
       "      <td>3</td>\n",
       "      <td>0</td>\n",
       "    </tr>\n",
       "    <tr>\n",
       "      <th>31245</th>\n",
       "      <td>5</td>\n",
       "      <td>8</td>\n",
       "      <td>1</td>\n",
       "      <td>0</td>\n",
       "      <td>1402</td>\n",
       "      <td>0</td>\n",
       "      <td>0</td>\n",
       "      <td>0</td>\n",
       "      <td>2</td>\n",
       "      <td>7</td>\n",
       "      <td>87</td>\n",
       "      <td>0</td>\n",
       "      <td>0</td>\n",
       "    </tr>\n",
       "  </tbody>\n",
       "</table>\n",
       "</div>"
      ],
      "text/plain": [
       "       age  job  education  default  balance  housing  loan  contact  day  \\\n",
       "6149    14    1          1        1      678        1     0        2   26   \n",
       "12403   16    0          1        0      448        1     1        2   26   \n",
       "21645   14    9          1        0     1182        1     0        0   18   \n",
       "29580   18    1          1        1      929        0     1        0    2   \n",
       "31245    5    8          1        0     1402        0     0        0    2   \n",
       "\n",
       "       month  duration  campaign  previous  \n",
       "6149       8       427         0         0  \n",
       "12403      6       111         3         0  \n",
       "21645      1       168         1         0  \n",
       "29580      3       150         3         0  \n",
       "31245      7        87         0         0  "
      ]
     },
     "execution_count": 204,
     "metadata": {},
     "output_type": "execute_result"
    }
   ],
   "source": [
    "xntrain.head()"
   ]
  },
  {
   "cell_type": "markdown",
   "metadata": {},
   "source": [
    "# Tecnica de Clasificacion # 4 (Arboles de Decision)\n",
    "\n",
    "Conjunto de Datos 45211 instacias 15 atributos\n",
    "\n",
    "train = (31647 instacias y 15 atributos), test = (13.564 instancias y 14 atributos sin la Clase)"
   ]
  },
  {
   "cell_type": "code",
   "execution_count": 129,
   "metadata": {},
   "outputs": [
    {
     "name": "stdout",
     "output_type": "stream",
     "text": [
      "\n",
      "############## Accuracy DT##################\n",
      "0.62822936357908\n",
      "\n",
      "############## Matriz de Confusion DT ##################\n",
      "[[996 610]\n",
      " [570 998]]\n",
      "\n",
      "############## Metricas DT ##################\n",
      "              precision    recall  f1-score   support\n",
      "\n",
      "           0       0.64      0.62      0.63      1606\n",
      "           1       0.62      0.64      0.63      1568\n",
      "\n",
      "   micro avg       0.63      0.63      0.63      3174\n",
      "   macro avg       0.63      0.63      0.63      3174\n",
      "weighted avg       0.63      0.63      0.63      3174\n",
      "\n"
     ]
    }
   ],
   "source": [
    "################################################################\n",
    "#################### ÁRBOL DE DECISIÓN #########################\n",
    "################################################################\n",
    "xntrain =df.drop('C', axis = 1)\n",
    "yntrain = df['C']\n",
    "xntest =dt.drop('C', axis = 1)\n",
    "yntest = dt['C']\n",
    "\n",
    "DT_clf = tree.DecisionTreeClassifier()\n",
    "DT_clf.fit(xntrain, yntrain)\n",
    "\n",
    "\n",
    "\n",
    "\n",
    "DT_predict = DT_clf.predict(xntest)\n",
    "\n",
    "print(\"\\n############## Accuracy DT##################\")\n",
    "print(metrics.accuracy_score(yntest, DT_predict))\n",
    "print(\"\\n############## Matriz de Confusion DT ##################\")\n",
    "print(metrics.confusion_matrix(yntest, DT_predict))  \n",
    "print(\"\\n############## Metricas DT ##################\")\n",
    "print(metrics.classification_report(yntest, DT_predict)) \n"
   ]
  },
  {
   "cell_type": "code",
   "execution_count": 108,
   "metadata": {},
   "outputs": [
    {
     "data": {
      "image/png": "[encoded data removed]",
      "text/plain": [
       "<Figure size 432x288 with 1 Axes>"
      ]
     },
     "metadata": {},
     "output_type": "display_data"
    }
   ],
   "source": [
    "from sklearn.metrics import roc_curve, auc\n",
    "import matplotlib.pyplot as plt\n",
    "plt.style.use('ggplot')\n",
    "%matplotlib inline\n",
    "\n",
    "fpr, tpr, _ = roc_curve(yntest, DT_predict)\n",
    "roc_auc = auc(fpr, tpr)\n",
    "\n",
    "plt.figure()\n",
    "plt.plot(fpr, tpr, color='darkred',\n",
    "         lw=2, label='ROC curve DT(area = %0.2f)' % roc_auc)\n",
    "plt.plot([0, 1], [0, 1], color='navy', lw=2, linestyle='--')\n",
    "plt.xlim([0.0, 1.05])\n",
    "plt.ylim([0.0, 1.05])\n",
    "plt.xlabel('False Positive Rate')\n",
    "plt.ylabel('True Positive Rate')\n",
    "plt.title('ROC Curve')\n",
    "plt.legend(loc=\"lower right\")\n",
    "plt.show()"
   ]
  },
  {
   "cell_type": "code",
   "execution_count": 130,
   "metadata": {},
   "outputs": [
    {
     "data": {
      "image/png": "[encoded data removed]",
      "text/plain": [
       "<Figure size 432x288 with 1 Axes>"
      ]
     },
     "metadata": {},
     "output_type": "display_data"
    }
   ],
   "source": [
    "from sklearn.metrics import roc_curve, auc\n",
    "import matplotlib.pyplot as plt\n",
    "plt.style.use('ggplot')\n",
    "%matplotlib inline\n",
    "\n",
    "fpr, tpr, _ = roc_curve(yntest, SVM_predict)\n",
    "roc_auc = auc(fpr, tpr)\n",
    "fpr1, tpr1, _ = roc_curve(yntest, KNN_predict)\n",
    "roc_auc1 = auc(fpr1, tpr1)\n",
    "fpr2, tpr2, _ = roc_curve(yntest, clf_predict2)\n",
    "roc_auc2 = auc(fpr2, tpr2)\n",
    "fpr3, tpr3, _ = roc_curve(yntest, DT_predict)\n",
    "roc_auc3 = auc(fpr3, tpr3)\n",
    "\n",
    "plt.figure()\n",
    "plt.plot(fpr, tpr, color='darkorange',\n",
    "         lw=2, label='ROC curve SVM(area = %0.2f)' % roc_auc)\n",
    "plt.plot(fpr1, tpr1, color='darkgreen',\n",
    "         lw=2, label='ROC curve KNN (area = %0.2f)' % roc_auc1)\n",
    "plt.plot(fpr2, tpr2, color='darkblue',\n",
    "         lw=2, label='ROC curve MLP (area = %0.2f)' % roc_auc2)\n",
    "plt.plot(fpr3, tpr3, color='darkred',\n",
    "         lw=2, label='ROC curve DTree (area = %0.2f)' % roc_auc3)\n",
    "\n",
    "\n",
    "plt.plot([0, 1], [0, 1], color='navy', lw=2, linestyle='--')\n",
    "plt.xlim([0.0, 1.0])\n",
    "plt.ylim([0.0, 1.05])\n",
    "plt.xlabel('False Positive Rate')\n",
    "plt.ylabel('True Positive Rate')\n",
    "plt.title('ROC Curve')\n",
    "plt.legend(loc=\"lower right\")\n",
    "plt.show()"
   ]
  },
  {
   "cell_type": "code",
   "execution_count": null,
   "metadata": {},
   "outputs": [],
   "source": []
  }
 ],
 "metadata": {
  "kernelspec": {
   "display_name": "Python 3",
   "language": "python",
   "name": "python3"
  },
  "language_info": {
   "codemirror_mode": {
    "name": "ipython",
    "version": 3
   },
   "file_extension": ".py",
   "mimetype": "text/x-python",
   "name": "python",
   "nbconvert_exporter": "python",
   "pygments_lexer": "ipython3",
   "version": "3.6.5"
  }
 },
 "nbformat": 4,
 "nbformat_minor": 2
}
