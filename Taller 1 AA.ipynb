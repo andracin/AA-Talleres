{
 "cells": [
  {
   "cell_type": "markdown",
   "metadata": {
    "slideshow": {
     "slide_type": "slide"
    }
   },
   "source": [
    "# Aprendizaje Automático\n",
    "## Práctica sobre preparación de los datos\n",
    "---\n",
    "Para la primera práctica del curso de aprendizaje automático, se trabajará con un conjunto de datos que pertenece al repositorio especial de Machine Learning de la [UCI](https://archive.ics.uci.edu/ml). El conjunto de datos se llama \"Adult\" y toda la información correspondiente al mismo se encuentra [aquí](https://archive.ics.uci.edu/ml/datasets/Adult).\n",
    "\n",
    "En principio, se puede observar que el conjunto de datos tiene las siguientes características:\n",
    "+ Atributos multivariados.\n",
    "+ Atributos categóricos y enteros.\n",
    "+ Resuelve un problema de clasificación.\n",
    "+ 48842 Instancias entre train y test.\n",
    "+ 14 Atributos.\n",
    "+ Le faltan valores a algunos atributos (datos faltantes).\n",
    "\n",
    "Básicamente los datos pertenecientes al conjunto \"Adult\" hacen referencia a diversos atributos de 48842 adultos distintos que ayudan a resolver la tarea de clasificar a tales adultos en dos clases principales: `<=50k` y `>50k`, que respectivamente hacen referencia a cuando el adulto gana 50.000 dólares al año o menos y cuando el adulto gana más de 50.000 dólares al año.\n",
    "\n",
    "---\n",
    "### Conociendo los datos\n",
    "\n",
    "Para tener una primera mirada sobre los datos, se deben cargar en R los datos de entrenamiento desde el mismo repositorio online de la [UCI](https://archive.ics.uci.edu/ml). En la celda de abajo, escriba el código en R correspondiente para poder cargar en un `Data Frame` todos los datos. Nota: tener en cuenta que los datos están separados por una coma `','` y además un espacio en blanco."
   ]
  },
  {
   "cell_type": "code",
   "execution_count": null,
   "metadata": {},
   "outputs": [],
   "source": []
  },
  {
   "cell_type": "markdown",
   "metadata": {},
   "source": [
    "En la celda de abajo, escribir el comando `dim(dataset)` para comprobar que el conjunto de datos quedó cargado con el número correcto de instancias y atributos por instancia."
   ]
  },
  {
   "cell_type": "code",
   "execution_count": null,
   "metadata": {},
   "outputs": [],
   "source": []
  },
  {
   "cell_type": "markdown",
   "metadata": {},
   "source": [
    "En el conjunto de datos Adult, podemos ver que hay 14 atributos que están mezclados entre categóricos y numéricos, en R es posible conocer la clase a la que pertenece cada atributo con la función `sapply(dataset, class)`. En la celda de abajo compruebe que hay 8 atributos de tipo \"factor\" o categórico y 6 de tipo \"integer\" o numérico. También compruebe que el atributo V15 hace referencia a la clase a la cual pertenece el adulto en cuestión, que recordemos es `<=50k` ó `>50k`."
   ]
  },
  {
   "cell_type": "code",
   "execution_count": null,
   "metadata": {},
   "outputs": [],
   "source": []
  },
  {
   "cell_type": "markdown",
   "metadata": {},
   "source": [
    "Dado que se requiere trabajar únicamente con datos numéricos, se deben traducir o convertir los datos de tipo factor a tipo integer. En la celda de abajo, escriba el código correspondiente para realizar esta conversión."
   ]
  },
  {
   "cell_type": "code",
   "execution_count": null,
   "metadata": {},
   "outputs": [],
   "source": []
  },
  {
   "cell_type": "markdown",
   "metadata": {},
   "source": [
    "El conjunto de datos se caracteríza por tener datos faltantes. Es posible abordar esta problemática de \"datos sucios\" de tres maneras: simplemente eliminando toda la instancia con el valor faltante o asignar dicho valor a la instancia, basándose en la media o interpolando. En este caso, proceda a eliminar toda la fila que contenga el valor faltante, que usualmente en los conjuntos de datos se evidencia con un `'NA'`."
   ]
  },
  {
   "cell_type": "code",
   "execution_count": null,
   "metadata": {},
   "outputs": [],
   "source": []
  },
  {
   "cell_type": "markdown",
   "metadata": {},
   "source": [
    "En la celda de abajo, escriba el código correspondiente para conocer la media, mediana y moda, además de los valores mínimos y máximos por cada atributo. De igual manera, en la misma celda, halle la desviación estándar y la varianza para cada atributo."
   ]
  },
  {
   "cell_type": "code",
   "execution_count": null,
   "metadata": {},
   "outputs": [],
   "source": []
  },
  {
   "cell_type": "markdown",
   "metadata": {},
   "source": [
    "Para establecer la relación que existe entre cada atributo, se utiliza la matriz de correlación. En la celda de abajo, halle la matriz de correlación de los atributos y grafique con un mapa de calor la matriz construída."
   ]
  },
  {
   "cell_type": "code",
   "execution_count": null,
   "metadata": {},
   "outputs": [],
   "source": []
  },
  {
   "cell_type": "markdown",
   "metadata": {},
   "source": [
    "Ahora llegamos a las gráficas, en la celda siguiente escriba el código de R para graficar por cada atributo el diagrama de cajas y bigotes o boxplot, que sirve para conocer la distribución de los datos basándose en los cuartiles y también el código para visualizar un histograma para cada atributo. Para la práctica, grafique el diagrama de cajas y bigotes e histogramas para los atributos \"age\", \"fnlwgt\" y \"occupation\" que son V1, V3 y V7 respectivamente."
   ]
  },
  {
   "cell_type": "code",
   "execution_count": null,
   "metadata": {},
   "outputs": [],
   "source": []
  },
  {
   "cell_type": "markdown",
   "metadata": {},
   "source": [
    "Finalmente, grafique una matriz de scatter plot para determinar el tipo de relación (si existe) entre las variables."
   ]
  },
  {
   "cell_type": "code",
   "execution_count": null,
   "metadata": {},
   "outputs": [],
   "source": []
  }
 ],
 "metadata": {
  "kernelspec": {
   "display_name": "R",
   "language": "R",
   "name": "ir"
  },
  "language_info": {
   "codemirror_mode": "r",
   "file_extension": ".r",
   "mimetype": "text/x-r-source",
   "name": "R",
   "pygments_lexer": "r",
   "version": "3.4.3"
  }
 },
 "nbformat": 4,
 "nbformat_minor": 2
}
