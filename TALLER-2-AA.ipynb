{
 "cells": [
  {
   "cell_type": "markdown",
   "metadata": {},
   "source": [
    "# Taller 2 AA Entragable \n",
    "\n",
    "\n",
    "Este taller se realizara utilizando el mismo conjunto de datos que le fue\n",
    "asignado para el taller 1 y una de las siguientes tecnicas de aprendizaje a su\n",
    "eleccion:\n",
    "\n",
    "Dataset asignado : \"allrep\"\n",
    "\n",
    "Tecnica de aprendizaje : \"Maquinas de vectores de soporte\""
   ]
  },
  {
   "cell_type": "markdown",
   "metadata": {},
   "source": [
    "## Preparacion de datos \n",
    "\n",
    "\n",
    "importamos todas las librerías necesarias para trabajar Aprendizaje Automático con Python y Sci-kit learn"
   ]
  },
  {
   "cell_type": "code",
   "execution_count": 7,
   "metadata": {},
   "outputs": [],
   "source": [
    "import numpy as np\n",
    "import pandas as pd\n",
    "import matplotlib.pyplot as plt\n",
    "import itertools\n",
    "from sklearn import metrics\n",
    "from sklearn.model_selection import train_test_split\n",
    "from sklearn import preprocessing\n",
    "from sklearn import tree\n",
    "from sklearn import svm\n",
    "from sklearn import neighbors\n",
    "from sklearn.neighbors import KNeighborsClassifier\n",
    "import io\n",
    "import requests\n",
    "from sklearn.metrics import classification_report, confusion_matrix"
   ]
  },
  {
   "cell_type": "markdown",
   "metadata": {},
   "source": [
    "importar los datos de entrenamiento y eliminar los valores faltantes,\n",
    "ademas de convertir los valores categoricos a enteros. Se elimina la columna 27 porque no contiene valores ."
   ]
  },
  {
   "cell_type": "code",
   "execution_count": 2,
   "metadata": {},
   "outputs": [],
   "source": [
    "url=\"https://archive.ics.uci.edu/ml/machine-learning-databases/thyroid-disease/allrep.data\"\n",
    "ds_ = pd.read_csv(url, header=None)\n",
    "del ds_[27] # Se elimina la columna 27 que esta totalmente vacia \n",
    "ds = ds_.dropna()\n",
    "ds = ds.rename(columns = {ds.columns.values[28]:'C'}) # Cambiamos el nombre de la última columna por \"C\" de clase\n",
    "ds.C = ds.C.str.replace(r\"\\..*\",\"\") # Eliminanmos de la Clase los carateres numericos \n",
    "le = preprocessing.LabelEncoder() # Label encoder de sci-kit\n",
    "ds = ds.apply(le.fit_transform) # Convertimos los valores de object a intds\n"
   ]
  },
  {
   "cell_type": "markdown",
   "metadata": {},
   "source": [
    "importar los datos de test y eliminar los valores faltantes,\n",
    "ademas de convertir los valores categoricos a enteros. Se elimina la columna 27 porque no contiene valores .\n"
   ]
  },
  {
   "cell_type": "code",
   "execution_count": 3,
   "metadata": {},
   "outputs": [],
   "source": [
    "urltest = \"https://archive.ics.uci.edu/ml/machine-learning-databases/thyroid-disease/allrep.test\"\n",
    "test_ = pd.read_csv(urltest, header=None)\n",
    "del test_[27]\n",
    "test = test_.dropna()\n",
    "test = test.rename(columns = {test.columns.values[28]:'C'}) # Cambiamos el nombre de la última columna por \"C\" de clases = test.apply(le.fit_transform) # Convertimos los valores de object a int\n",
    "test.C = test.C.str.replace(r\"\\..*\",\"\") # Eliminanmos de la Clase los carateres numericos \n",
    "le = preprocessing.LabelEncoder() # Label encoder de sci-kit\n",
    "test = test.apply(le.fit_transform) # Convertimos los valores de object a int\n",
    "#test\n"
   ]
  },
  {
   "cell_type": "markdown",
   "metadata": {},
   "source": [
    "Se realiza un histograma para ver la distribucion de las clases y la proporcion entre la clase [0] mayoritaria \n",
    "y las demas clase[1] , clase[2], clase[3]. "
   ]
  },
  {
   "cell_type": "code",
   "execution_count": 4,
   "metadata": {},
   "outputs": [
    {
     "name": "stdout",
     "output_type": "stream",
     "text": [
      "Clase 0: 2713\n",
      "Clase 1: 23\n",
      "Clase 2: 29\n",
      "Clase 3: 35\n",
      "Proporcion: 117.96 : clase[0] / clase[1]\n",
      "Proporcion: 93.55 : clase[0] / clase[2]\n",
      "Proporcion: 77.51 : clase[0] / clase[3]\n"
     ]
    },
    {
     "data": {
      "image/png": "[encoded data removed]",
      "text/plain": [
       "<Figure size 432x288 with 1 Axes>"
      ]
     },
     "metadata": {},
     "output_type": "display_data"
    }
   ],
   "source": [
    "import numpy as np\n",
    "import pandas as pd\n",
    "\n",
    "target_count = ds['C'].value_counts() \n",
    "print('Clase 0:', target_count[0])\n",
    "print('Clase 1:', target_count[1])\n",
    "print('Clase 2:', target_count[2])\n",
    "print('Clase 3:', target_count[3])\n",
    "print('Proporcion:', round(target_count[0] / target_count[1]  , 2), ': clase[0] / clase[1]')\n",
    "print('Proporcion:', round(target_count[0] / target_count[2]  , 2), ': clase[0] / clase[2]')\n",
    "print('Proporcion:', round(target_count[0] / target_count[3]  , 2), ': clase[0] / clase[3]')\n",
    "target_count.plot(kind='bar', title='Contador  (Clases)');"
   ]
  },
  {
   "cell_type": "markdown",
   "metadata": {},
   "source": [
    "Se procede a extraer aleatoriamente un 10% de los datos del conjunto de entrenamiento. Este subconjunto constituira el conjunto de validación, que se usará para estimar los valores de los parámetros en las técnicas que así lo requieran. Todas las técnicas deberán entrenarse con el mismo conjunto de entrenamiento para que sea posible comparar sus desempeños. En la siguiente celda, se divide el conjunto de entrenamiento como se enunció."
   ]
  },
  {
   "cell_type": "code",
   "execution_count": null,
   "metadata": {},
   "outputs": [],
   "source": []
  },
  {
   "cell_type": "code",
   "execution_count": 4,
   "metadata": {},
   "outputs": [
    {
     "name": "stdout",
     "output_type": "stream",
     "text": [
      "Original dataset shape trainval Counter({0: 2438, 3: 31, 2: 29, 1: 22})\n",
      "Original dataset shape testval Counter({0: 275, 3: 4, 1: 1})\n"
     ]
    }
   ],
   "source": [
    "x_train = ds.drop('C', axis = 1)\n",
    "y_train = ds['C']\n",
    "\n",
    "x_test = test.drop('C', axis = 1)\n",
    "y_test = test['C']\n",
    "\n",
    "from collections import Counter\n",
    "\n",
    "x_strainval, x_stestval, y_strainval, y_stestval = train_test_split(x_train, y_train, test_size = 0.1, random_state=123)\n",
    "print('Original dataset shape trainval {}'.format(Counter(y_strainval)))\n",
    "print('Original dataset shape testval {}'.format(Counter(y_stestval)))"
   ]
  },
  {
   "cell_type": "code",
   "execution_count": 5,
   "metadata": {},
   "outputs": [
    {
     "data": {
      "text/plain": [
       "<function sklearn.model_selection._split.train_test_split(*arrays, **options)>"
      ]
     },
     "execution_count": 5,
     "metadata": {},
     "output_type": "execute_result"
    }
   ],
   "source": [
    "train_test_split"
   ]
  },
  {
   "cell_type": "markdown",
   "metadata": {},
   "source": [
    "## Primera Iteracion \"Seleccionar el mejor Costo para la SMV\"\n",
    "\n",
    "A continuación se estimará qué parámetro C es el que mejor se comporta con las SVM."
   ]
  },
  {
   "cell_type": "code",
   "execution_count": 6,
   "metadata": {},
   "outputs": [
    {
     "name": "stdout",
     "output_type": "stream",
     "text": [
      "\n",
      "############## Accuracy Linear SVM C=10.0 ##################\n",
      "0.9785714285714285\n",
      "[[274   1   0]\n",
      " [  1   0   0]\n",
      " [  4   0   0]]\n",
      "\n",
      "############## Accuracy Linear SVM C=50.0 ##################\n",
      "0.975\n",
      "[[273   1   1]\n",
      " [  1   0   0]\n",
      " [  4   0   0]]\n",
      "\n",
      "############## Accuracy Linear SVM C=500.0 ##################\n",
      "0.975\n",
      "[[273   1   1]\n",
      " [  1   0   0]\n",
      " [  4   0   0]]\n"
     ]
    }
   ],
   "source": [
    "\n",
    "########################################################################\n",
    "#################### Linear SVM C=10.0 ##################################\n",
    "\n",
    "SVM10 = svm.LinearSVC(dual=False, C=10.0)\n",
    "SVM10.fit(x_strainval, y_strainval)\n",
    "\n",
    "SVM10_predict = SVM10.predict(x_stestval)\n",
    "\n",
    "print(\"\\n############## Accuracy Linear SVM C=10.0 ##################\")\n",
    "print(metrics.accuracy_score(y_stestval, SVM10_predict))\n",
    "print(metrics.confusion_matrix(y_stestval, SVM10_predict))\n",
    "\n",
    "########################################################################\n",
    "#################### Linear SVM C=50.0 ##################################\n",
    "\n",
    "SVM50 = svm.LinearSVC(dual=False, C=50.0)\n",
    "SVM50.fit(x_strainval, y_strainval)\n",
    "\n",
    "SVM50_predict = SVM50.predict(x_stestval)\n",
    "\n",
    "print(\"\\n############## Accuracy Linear SVM C=50.0 ##################\")\n",
    "print(metrics.accuracy_score(y_stestval, SVM50_predict))\n",
    "print(metrics.confusion_matrix(y_stestval, SVM50_predict))\n",
    "\n",
    "########################################################################\n",
    "#################### Linear SVM C=500.0 ##################################\n",
    "\n",
    "SVM50 = svm.LinearSVC(dual=False, C=500.0)\n",
    "SVM50.fit(x_strainval, y_strainval)\n",
    "\n",
    "SVM50_predict = SVM50.predict(x_stestval)\n",
    "\n",
    "print(\"\\n############## Accuracy Linear SVM C=500.0 ##################\")\n",
    "print(metrics.accuracy_score(y_stestval, SVM50_predict))\n",
    "print(metrics.confusion_matrix(y_stestval, SVM50_predict))\n"
   ]
  },
  {
   "cell_type": "markdown",
   "metadata": {},
   "source": [
    "## Segunda Iteracion \"Seleccionar el Mejor Kernel para SVM\"\n",
    "El parámetro C no se pudo establer uno como mejor  rendimiento de la SVM Lineal. Ahora, se entrenarán 2 SVM con funciones kernel distintas para evaluar cuál parametro arroja los mejores resultados con la partición previa que se obtuvo."
   ]
  },
  {
   "cell_type": "code",
   "execution_count": 46,
   "metadata": {},
   "outputs": [
    {
     "name": "stderr",
     "output_type": "stream",
     "text": [
      "C:\\Users\\Juan Jose\\Anaconda3\\lib\\site-packages\\sklearn\\svm\\base.py:196: FutureWarning: The default value of gamma will change from 'auto' to 'scale' in version 0.22 to account better for unscaled features. Set gamma explicitly to 'auto' or 'scale' to avoid this warning.\n",
      "  \"avoid this warning.\", FutureWarning)\n"
     ]
    },
    {
     "name": "stdout",
     "output_type": "stream",
     "text": [
      "\n",
      "############## Accuracy SVM RBF ##################\n",
      "0.9821428571428571\n",
      "[[275   0   0]\n",
      " [  1   0   0]\n",
      " [  4   0   0]]\n",
      "\n",
      "############## Accuracy SVM Sigmoid ##################\n",
      "0.9821428571428571\n",
      "[[275   0   0]\n",
      " [  1   0   0]\n",
      " [  4   0   0]]\n"
     ]
    },
    {
     "name": "stderr",
     "output_type": "stream",
     "text": [
      "C:\\Users\\Juan Jose\\Anaconda3\\lib\\site-packages\\sklearn\\svm\\base.py:196: FutureWarning: The default value of gamma will change from 'auto' to 'scale' in version 0.22 to account better for unscaled features. Set gamma explicitly to 'auto' or 'scale' to avoid this warning.\n",
      "  \"avoid this warning.\", FutureWarning)\n"
     ]
    }
   ],
   "source": [
    "########################################################################\n",
    "########################### RBF SVM ####################################\n",
    "\n",
    "SVMrbf = svm.SVC(kernel='rbf')\n",
    "SVMrbf.fit(x_strainval, y_strainval)\n",
    "\n",
    "SVMrbf_predict = SVMrbf.predict(x_stestval)\n",
    "\n",
    "print(\"\\n############## Accuracy SVM RBF ##################\")\n",
    "print(metrics.accuracy_score(y_stestval, SVMrbf_predict))\n",
    "print(metrics.confusion_matrix(y_stestval, SVMrbf_predict))\n",
    "\n",
    "########################################################################\n",
    "########################## Sigmoid SVM #################################\n",
    "\n",
    "SVMsigmoid = svm.SVC(kernel='sigmoid')\n",
    "SVMsigmoid.fit(x_strainval, y_strainval)\n",
    "\n",
    "SVMsigmoid_predict = SVMsigmoid.predict(x_stestval)\n",
    "\n",
    "print(\"\\n############## Accuracy SVM Sigmoid ##################\")\n",
    "print(metrics.accuracy_score(y_stestval, SVMsigmoid_predict))\n",
    "print(metrics.confusion_matrix(y_stestval, SVMsigmoid_predict))\n"
   ]
  },
  {
   "cell_type": "markdown",
   "metadata": {},
   "source": [
    "La SVM con kernel lineal obtuvo un mejor accuracy y por tal razón sera usada para entrenar el clasificador y posteriormente evaluarlo con los datos originales de prueba. En la siguiente porción de codigo, entrenamos el clasificador y realizamos la respectiva predicción. Además, evaluamos el desempeño del clasificador teniendo en cuenta las métricas que provee el reporte de clasificación de sklearn."
   ]
  },
  {
   "cell_type": "code",
   "execution_count": 8,
   "metadata": {},
   "outputs": [
    {
     "name": "stdout",
     "output_type": "stream",
     "text": [
      "\n",
      "############## Accuracy Linear SVM FINAL ##################\n",
      "0.9609053497942387\n",
      "[[930   2   0   3]\n",
      " [ 10   1   0   0]\n",
      " [  8   1   0   0]\n",
      " [ 14   0   0   3]]\n",
      "              precision    recall  f1-score   support\n",
      "\n",
      "           0       0.97      0.99      0.98       935\n",
      "           1       0.25      0.09      0.13        11\n",
      "           2       0.00      0.00      0.00         9\n",
      "           3       0.50      0.18      0.26        17\n",
      "\n",
      "   micro avg       0.96      0.96      0.96       972\n",
      "   macro avg       0.43      0.32      0.34       972\n",
      "weighted avg       0.94      0.96      0.95       972\n",
      "\n"
     ]
    },
    {
     "name": "stderr",
     "output_type": "stream",
     "text": [
      "C:\\Users\\Juan Jose\\Anaconda3\\lib\\site-packages\\sklearn\\metrics\\classification.py:1143: UndefinedMetricWarning: Precision and F-score are ill-defined and being set to 0.0 in labels with no predicted samples.\n",
      "  'precision', 'predicted', average, warn_for)\n"
     ]
    }
   ],
   "source": [
    "########################################################################\n",
    "#################### Linear SVM FINAL ##################################\n",
    "x_train =ds.drop('C', axis = 1)\n",
    "y_train = ds['C']\n",
    "x_test =test.drop('C', axis = 1)\n",
    "y_test = test['C']\n",
    "SVM = svm.LinearSVC(dual=False,  C=10)\n",
    "SVM.fit(x_train, y_train)\n",
    "from sklearn.metrics import classification_report, confusion_matrix\n",
    "SVM_predict = SVM.predict(x_test)\n",
    "\n",
    "print(\"\\n############## Accuracy Linear SVM FINAL ##################\")\n",
    "print(metrics.accuracy_score(y_test, SVM_predict))\n",
    "print(metrics.confusion_matrix(y_test, SVM_predict))\n",
    "print(classification_report(y_test,SVM_predict))"
   ]
  },
  {
   "cell_type": "markdown",
   "metadata": {},
   "source": [
    "## Tercera Iteracion \"Eliminar  atributos Innecesarios  \"\n",
    "Apesar que se obtuvo una buena predicion del clasificador \"SVM LINEAL\", se intera mejorar eliminando aquellos atributos que contengan alta correlacion para si se puede mejorar la predicion, a continuacion se grafica la matriz de correlacion para \n",
    "ver cuales atributos estan altamente correlacionados ."
   ]
  },
  {
   "cell_type": "code",
   "execution_count": 8,
   "metadata": {},
   "outputs": [
    {
     "data": {
      "text/plain": [
       "<matplotlib.axes._subplots.AxesSubplot at 0x1a0c8cac18>"
      ]
     },
     "execution_count": 8,
     "metadata": {},
     "output_type": "execute_result"
    },
    {
     "data": {
      "image/png": "[encoded data removed]",
      "text/plain": [
       "<Figure size 432x288 with 2 Axes>"
      ]
     },
     "metadata": {},
     "output_type": "display_data"
    }
   ],
   "source": [
    "import seaborn as sns \n",
    "corr = ds.corr() \n",
    "sns.heatmap(corr, \n",
    "      xticklabels=corr.columns.values, \n",
    "      yticklabels=corr.columns.values) "
   ]
  },
  {
   "cell_type": "markdown",
   "metadata": {},
   "source": [
    "El matriz se identifico que el atributo 19 esta alta correlacion con los atributos 21,23,25 se procede a eliminarlo para ver si la prediccion mejora. se eliminan en los dos conjuntos en el entrenamiento y test "
   ]
  },
  {
   "cell_type": "code",
   "execution_count": 9,
   "metadata": {},
   "outputs": [],
   "source": [
    "del ds[21]\n",
    "del ds[23]\n",
    "del ds[25]\n",
    "del ds[26]\n",
    "del test[21]\n",
    "del test[23]\n",
    "del test[25]\n",
    "del test[26]"
   ]
  },
  {
   "cell_type": "markdown",
   "metadata": {},
   "source": [
    "Se procede a graficar nuevamente la matriz de correlacion para verificar la elimacion de los atributos en el conjunto de train"
   ]
  },
  {
   "cell_type": "code",
   "execution_count": 10,
   "metadata": {},
   "outputs": [
    {
     "data": {
      "text/plain": [
       "<matplotlib.axes._subplots.AxesSubplot at 0x1a0d1c64a8>"
      ]
     },
     "execution_count": 10,
     "metadata": {},
     "output_type": "execute_result"
    },
    {
     "data": {
      "image/png": "[encoded data removed]",
      "text/plain": [
       "<Figure size 432x288 with 2 Axes>"
      ]
     },
     "metadata": {},
     "output_type": "display_data"
    }
   ],
   "source": [
    "import seaborn as sns \n",
    "corr = ds.corr() \n",
    "sns.heatmap(corr, \n",
    "      xticklabels=corr.columns.values, \n",
    "      yticklabels=corr.columns.values) "
   ]
  },
  {
   "cell_type": "markdown",
   "metadata": {},
   "source": [
    "Se realiza nuevamente la predicion para ver si el modelo mejora con repecto al anterior, antes de eliminar las columnas que tenian alta correlacion "
   ]
  },
  {
   "cell_type": "code",
   "execution_count": 11,
   "metadata": {},
   "outputs": [
    {
     "name": "stdout",
     "output_type": "stream",
     "text": [
      "\n",
      "############## Accuracy Linear SVM FINAL ##################\n",
      "0.9609053497942387\n",
      "[[930   2   0   3]\n",
      " [ 10   1   0   0]\n",
      " [  8   1   0   0]\n",
      " [ 14   0   0   3]]\n",
      "              precision    recall  f1-score   support\n",
      "\n",
      "           0       0.97      0.99      0.98       935\n",
      "           1       0.25      0.09      0.13        11\n",
      "           2       0.00      0.00      0.00         9\n",
      "           3       0.50      0.18      0.26        17\n",
      "\n",
      "   micro avg       0.96      0.96      0.96       972\n",
      "   macro avg       0.43      0.32      0.34       972\n",
      "weighted avg       0.94      0.96      0.95       972\n",
      "\n"
     ]
    },
    {
     "name": "stderr",
     "output_type": "stream",
     "text": [
      "C:\\Users\\Juan Jose\\Anaconda3\\lib\\site-packages\\sklearn\\metrics\\classification.py:1143: UndefinedMetricWarning: Precision and F-score are ill-defined and being set to 0.0 in labels with no predicted samples.\n",
      "  'precision', 'predicted', average, warn_for)\n",
      "C:\\Users\\Juan Jose\\Anaconda3\\lib\\site-packages\\sklearn\\metrics\\classification.py:1143: UndefinedMetricWarning: Precision and F-score are ill-defined and being set to 0.0 in labels with no predicted samples.\n",
      "  'precision', 'predicted', average, warn_for)\n",
      "C:\\Users\\Juan Jose\\Anaconda3\\lib\\site-packages\\sklearn\\metrics\\classification.py:1143: UndefinedMetricWarning: Precision and F-score are ill-defined and being set to 0.0 in labels with no predicted samples.\n",
      "  'precision', 'predicted', average, warn_for)\n"
     ]
    }
   ],
   "source": [
    "########################################################################\n",
    "#################### Linear SVM FINAL ##################################\n",
    "\n",
    "SVM = svm.LinearSVC(dual=False,  C=10)\n",
    "SVM.fit(x_train, y_train)\n",
    "from sklearn.metrics import classification_report, confusion_matrix\n",
    "SVM_predict = SVM.predict(x_test)\n",
    "\n",
    "print(\"\\n############## Accuracy Linear SVM FINAL ##################\")\n",
    "print(metrics.accuracy_score(y_test, SVM_predict))\n",
    "print(metrics.confusion_matrix(y_test, SVM_predict))\n",
    "print(classification_report(y_test,SVM_predict))\n"
   ]
  },
  {
   "cell_type": "markdown",
   "metadata": {},
   "source": [
    "Como se puede observar la predicion no mejora luego de eliminar los datos correlacionados es igual a la anterior prediccion."
   ]
  },
  {
   "cell_type": "markdown",
   "metadata": {},
   "source": [
    "\n",
    "## Cuarta Iteracion \"Balanceo de Datos usando Oversampling\"\n",
    "\n",
    "Como se pudo observar en la etapa de preparacion de los datos, donde se evidencio que una de las clases \"0\" predominaba sobre la otras como se muestra a continuacion:\n"
   ]
  },
  {
   "cell_type": "code",
   "execution_count": 12,
   "metadata": {},
   "outputs": [
    {
     "data": {
      "text/plain": [
       "0    2713\n",
       "3      35\n",
       "2      29\n",
       "1      23\n",
       "Name: C, dtype: int64"
      ]
     },
     "execution_count": 12,
     "metadata": {},
     "output_type": "execute_result"
    }
   ],
   "source": [
    "ds.C.value_counts()"
   ]
  },
  {
   "cell_type": "code",
   "execution_count": 13,
   "metadata": {},
   "outputs": [
    {
     "data": {
      "text/plain": [
       "3    2713\n",
       "2    2713\n",
       "1    2713\n",
       "0    2713\n",
       "Name: C, dtype: int64"
      ]
     },
     "execution_count": 13,
     "metadata": {},
     "output_type": "execute_result"
    }
   ],
   "source": [
    "from sklearn.utils import resample\n",
    "# separar las clases entre mayoritaria y minoritaria \n",
    "ds_majority = ds[ds.C ==0]\n",
    "ds_minority1 = ds[ds.C ==1]\n",
    "ds_minority2 = ds[ds.C ==2] \n",
    "ds_minority3 = ds[ds.C == 3]\n",
    "# sobre muestrear las clases minoritarias\n",
    "ds_minority_upsampled1 = resample(ds_minority1, \n",
    "                                 replace=True,     # Muestreo con remplazo\n",
    "                                 n_samples=2713,    # cantidad de muestras a igualar \n",
    "                                 random_state=123) \n",
    "\n",
    "ds_minority_upsampled2 = resample(ds_minority2, \n",
    "                                 replace=True,     # Muestreo con remplazo\n",
    "                                 n_samples=2713,    # cantidad de muestras a igualar\n",
    "                                 random_state=123) \n",
    "ds_minority_upsampled3 = resample(ds_minority3, \n",
    "                                 replace=True,     # Muestreo con remplazo\n",
    "                                 n_samples=2713,    # cantidad de muestras a igualar\n",
    "                                 random_state=123) \n",
    "\n",
    "# concaternar la clase mayoritaria con la clases minoritarias creadas recientemente\n",
    "ds_upsampled = pd.concat([ds_majority, ds_minority_upsampled1,ds_minority_upsampled2,ds_minority_upsampled3])\n",
    " \n",
    "# imprimir el numero de muestras por clase\n",
    "ds_upsampled.C.value_counts()\n"
   ]
  },
  {
   "cell_type": "markdown",
   "metadata": {},
   "source": [
    "Se grafica nuevamente el histograma para mostrar la distribucion de las clases luego del oversampling y proporcion vs la clases anteriormente predominante"
   ]
  },
  {
   "cell_type": "code",
   "execution_count": 14,
   "metadata": {},
   "outputs": [
    {
     "name": "stdout",
     "output_type": "stream",
     "text": [
      "Clase 0: 2713\n",
      "Clase 1: 2713\n",
      "Clase 2: 2713\n",
      "Clase 3: 2713\n",
      "Proporcion: 1.0 : clase[0] / clase[1]\n",
      "Proporcion: 1.0 : clase[0] / clase[2]\n",
      "Proporcion: 1.0 : clase[0] / clase[3]\n"
     ]
    },
    {
     "data": {
      "image/png": "[encoded data removed]",
      "text/plain": [
       "<Figure size 432x288 with 1 Axes>"
      ]
     },
     "metadata": {},
     "output_type": "display_data"
    }
   ],
   "source": [
    "import numpy as np\n",
    "import pandas as pd\n",
    "\n",
    "target_count = ds_upsampled['C'].value_counts() \n",
    "print('Clase 0:', target_count[0])\n",
    "print('Clase 1:', target_count[1])\n",
    "print('Clase 2:', target_count[2])\n",
    "print('Clase 3:', target_count[3])\n",
    "print('Proporcion:', round(target_count[0] / target_count[1]  , 2), ': clase[0] / clase[1]')\n",
    "print('Proporcion:', round(target_count[0] / target_count[2]  , 2), ': clase[0] / clase[2]')\n",
    "print('Proporcion:', round(target_count[0] / target_count[3]  , 2), ': clase[0] / clase[3]')\n",
    "target_count.plot(kind='bar', title='Contador  (Clases)');"
   ]
  },
  {
   "cell_type": "code",
   "execution_count": 15,
   "metadata": {},
   "outputs": [
    {
     "name": "stdout",
     "output_type": "stream",
     "text": [
      "\n",
      "############## Accuracy Linear SVM FINAL ##################\n",
      "0.8960905349794238\n",
      "[[839  22  29  45]\n",
      " [  0  10   1   0]\n",
      " [  1   3   5   0]\n",
      " [  0   0   0  17]]\n",
      "              precision    recall  f1-score   support\n",
      "\n",
      "           0       1.00      0.90      0.95       935\n",
      "           1       0.29      0.91      0.43        11\n",
      "           2       0.14      0.56      0.23         9\n",
      "           3       0.27      1.00      0.43        17\n",
      "\n",
      "   micro avg       0.90      0.90      0.90       972\n",
      "   macro avg       0.43      0.84      0.51       972\n",
      "weighted avg       0.97      0.90      0.92       972\n",
      "\n"
     ]
    }
   ],
   "source": [
    "########################################################################\n",
    "#################### Linear SVM FINAL ##################################\n",
    "x_train =ds_upsampled.drop('C', axis = 1)\n",
    "y_train = ds_upsampled['C']\n",
    "x_test =test.drop('C', axis = 1)\n",
    "y_test = test['C']\n",
    "SVM = svm.LinearSVC(dual=False , C=10 )\n",
    "SVM.fit(x_train,y_train )\n",
    "\n",
    "SVM_predict = SVM.predict(x_test)\n",
    "\n",
    "print(\"\\n############## Accuracy Linear SVM FINAL ##################\")\n",
    "print(metrics.accuracy_score(y_test, SVM_predict))\n",
    "print(metrics.confusion_matrix(y_test, SVM_predict))\n",
    "print(classification_report(y_test,SVM_predict))\n"
   ]
  },
  {
   "cell_type": "code",
   "execution_count": null,
   "metadata": {},
   "outputs": [
    {
     "name": "stderr",
     "output_type": "stream",
     "text": [
      "C:\\Users\\Juan Jose\\Anaconda3\\lib\\site-packages\\sklearn\\svm\\base.py:196: FutureWarning: The default value of gamma will change from 'auto' to 'scale' in version 0.22 to account better for unscaled features. Set gamma explicitly to 'auto' or 'scale' to avoid this warning.\n",
      "  \"avoid this warning.\", FutureWarning)\n"
     ]
    }
   ],
   "source": [
    "x_train =ds_upsampled.drop('C', axis = 1)\n",
    "y_train = ds_upsampled['C']\n",
    "x_test =test.drop('C', axis = 1)\n",
    "y_test = test['C']\n",
    "\n",
    "\n",
    "\n",
    "from sklearn.svm import SVC  \n",
    "svclassifier = SVC(kernel='poly', degree=8)  \n",
    "svclassifier.fit(x_train, y_train)\n",
    "y_pred = svclassifier.predict(x_test)  \n",
    "from sklearn.metrics import classification_report, confusion_matrix  \n",
    "print(confusion_matrix(y_test, y_pred))  \n",
    "print(classification_report(y_test, y_pred))  "
   ]
  },
  {
   "cell_type": "code",
   "execution_count": null,
   "metadata": {},
   "outputs": [],
   "source": [
    "Como se puede observar la precision del clasificador disminuyo a la mitad con el uso del oversampling"
   ]
  },
  {
   "cell_type": "markdown",
   "metadata": {},
   "source": [
    "## Quinta Iteracion \"Balanceo de Datos usando Undersampling\""
   ]
  },
  {
   "cell_type": "code",
   "execution_count": 32,
   "metadata": {},
   "outputs": [
    {
     "data": {
      "text/plain": [
       "0    2713\n",
       "3      35\n",
       "2      29\n",
       "1      23\n",
       "Name: C, dtype: int64"
      ]
     },
     "execution_count": 32,
     "metadata": {},
     "output_type": "execute_result"
    }
   ],
   "source": [
    "ds.C.value_counts()"
   ]
  },
  {
   "cell_type": "code",
   "execution_count": 33,
   "metadata": {},
   "outputs": [
    {
     "data": {
      "text/plain": [
       "3    35\n",
       "2    29\n",
       "1    23\n",
       "0    23\n",
       "Name: C, dtype: int64"
      ]
     },
     "execution_count": 33,
     "metadata": {},
     "output_type": "execute_result"
    }
   ],
   "source": [
    "from sklearn.utils import resample\n",
    "# separar las clases entre mayoritaria y minoritaria \n",
    "ds_majority = ds[ds.C ==0]\n",
    "ds_minorityd1 = ds[ds.C ==1]\n",
    "ds_minorityd2 = ds[ds.C ==2] \n",
    "ds_minorityd3 = ds[ds.C == 3]\n",
    "# sobre muestrear las clases minoritarias\n",
    "ds_majority_downsampled = resample(ds_majority, \n",
    "                                 replace=False,     # Muestreo sin remplaso\n",
    "                                 n_samples=23,    # cantidad de muestra a igualar\n",
    "                                 random_state=123) \n",
    "\n",
    "\n",
    "\n",
    "# concaternar la clase mayoritaria con la clases minoritarias creadas recientemente\n",
    "ds_downsampled = pd.concat([ds_majority_downsampled,ds_minorityd1, ds_minorityd2,ds_minorityd3 ])\n",
    " \n",
    "# imprimir el numero de muestras por clase\n",
    "ds_downsampled.C.value_counts()"
   ]
  },
  {
   "cell_type": "code",
   "execution_count": 117,
   "metadata": {},
   "outputs": [
    {
     "name": "stdout",
     "output_type": "stream",
     "text": [
      "Clase 0: 23\n",
      "Clase 1: 23\n",
      "Clase 2: 29\n",
      "Clase 3: 35\n",
      "Proporcion: 1.0 : clase[0] / clase[1]\n",
      "Proporcion: 0.79 : clase[0] / clase[2]\n",
      "Proporcion: 0.66 : clase[0] / clase[3]\n"
     ]
    },
    {
     "data": {
      "image/png": "[encoded data removed]",
      "text/plain": [
       "<Figure size 432x288 with 1 Axes>"
      ]
     },
     "metadata": {},
     "output_type": "display_data"
    }
   ],
   "source": [
    "import numpy as np\n",
    "import pandas as pd\n",
    "\n",
    "target_count = ds_downsampled['C'].value_counts() \n",
    "print('Clase 0:', target_count[0])\n",
    "print('Clase 1:', target_count[1])\n",
    "print('Clase 2:', target_count[2])\n",
    "print('Clase 3:', target_count[3])\n",
    "print('Proporcion:', round(target_count[0] / target_count[1]  , 2), ': clase[0] / clase[1]')\n",
    "print('Proporcion:', round(target_count[0] / target_count[2]  , 2), ': clase[0] / clase[2]')\n",
    "print('Proporcion:', round(target_count[0] / target_count[3]  , 2), ': clase[0] / clase[3]')\n",
    "target_count.plot(kind='bar', title='Contador  (Clases)');"
   ]
  },
  {
   "cell_type": "code",
   "execution_count": 34,
   "metadata": {},
   "outputs": [
    {
     "name": "stdout",
     "output_type": "stream",
     "text": [
      "\n",
      "############## Accuracy Linear SVM FINAL ##################\n",
      "0.8909465020576132\n",
      "[[837  20  35  43]\n",
      " [  1   8   2   0]\n",
      " [  1   3   5   0]\n",
      " [  0   0   1  16]]\n",
      "              precision    recall  f1-score   support\n",
      "\n",
      "           0       1.00      0.90      0.94       935\n",
      "           1       0.26      0.73      0.38        11\n",
      "           2       0.12      0.56      0.19         9\n",
      "           3       0.27      0.94      0.42        17\n",
      "\n",
      "   micro avg       0.89      0.89      0.89       972\n",
      "   macro avg       0.41      0.78      0.48       972\n",
      "weighted avg       0.97      0.89      0.92       972\n",
      "\n"
     ]
    }
   ],
   "source": [
    "x_train =ds_downsampled.drop('C', axis = 1)\n",
    "y_train = ds_downsampled['C']\n",
    "\n",
    "########################################################################\n",
    "#################### Linear SVM FINAL ##################################\n",
    "\n",
    "SVM = svm.LinearSVC(dual=False , C=1000 )\n",
    "SVM.fit(x_train,y_train)\n",
    "\n",
    "SVM_predict = SVM.predict(x_test)\n",
    "\n",
    "print(\"\\n############## Accuracy Linear SVM FINAL ##################\")\n",
    "print(metrics.accuracy_score(y_test, SVM_predict))\n",
    "print(metrics.confusion_matrix(y_test, SVM_predict))\n",
    "print(classification_report(y_test,SVM_predict))"
   ]
  },
  {
   "cell_type": "markdown",
   "metadata": {},
   "source": [
    "## Sexta Iteracion \"Balanceo de datos usando Undersampling y Oversampling simultaneamente\""
   ]
  },
  {
   "cell_type": "code",
   "execution_count": 36,
   "metadata": {},
   "outputs": [
    {
     "data": {
      "text/plain": [
       "3    35\n",
       "2    35\n",
       "1    35\n",
       "0    35\n",
       "Name: C, dtype: int64"
      ]
     },
     "execution_count": 36,
     "metadata": {},
     "output_type": "execute_result"
    }
   ],
   "source": [
    "from sklearn.utils import resample\n",
    "# separar las clases entre mayoritaria y minoritaria \n",
    "ds_majority = ds[ds.C ==0]\n",
    "ds_minority1 = ds[ds.C ==1]\n",
    "ds_minority2 = ds[ds.C ==2] \n",
    "ds_minority3 = ds[ds.C == 3]\n",
    "\n",
    "# sobre muestrear las clases minoritarias\n",
    "ds1_majority_downsampled = resample(ds_majority, \n",
    "                                 replace=False,     # Muestreo sin remplaso\n",
    "                                 n_samples=35,    # cantidad de muestra a igualar\n",
    "                                 random_state=123) \n",
    "\n",
    "\n",
    "\n",
    "# sobre muestrear las clases minoritarias\n",
    "ds1_minority_upsampled1 = resample(ds_minority1, \n",
    "                                 replace=True,     # Muestreo con remplazo\n",
    "                                 n_samples=35,    # cantidad de muestras a igualar \n",
    "                                 random_state=123) \n",
    "\n",
    "ds1_minority_upsampled2 = resample(ds_minority2, \n",
    "                                 replace=True,     # Muestreo con remplazo\n",
    "                                 n_samples=35,    # cantidad de muestras a igualar\n",
    "                                 random_state=123) \n",
    "\n",
    "\n",
    "\n",
    "ds1_minority_upsampled3 = resample(ds_minority3, \n",
    "                                 replace=True,     # Muestreo con remplazo\n",
    "                                 n_samples=35,    # cantidad de muestras a igualar\n",
    "                                 random_state=123) \n",
    "\n",
    "\n",
    "\n",
    "\n",
    "# concaternar la clase mayoritaria con la clases minoritarias creadas recientemente\n",
    "ds_meclasampled = pd.concat([ds1_majority_downsampled, ds1_minority_upsampled1,ds1_minority_upsampled2,ds1_minority_upsampled3])\n",
    " \n",
    "# imprimir el numero de muestras por clase\n",
    "ds_meclasampled.C.value_counts()\n"
   ]
  },
  {
   "cell_type": "code",
   "execution_count": 37,
   "metadata": {
    "scrolled": true
   },
   "outputs": [
    {
     "name": "stdout",
     "output_type": "stream",
     "text": [
      "Clase 0: 35\n",
      "Clase 1: 35\n",
      "Clase 2: 35\n",
      "Clase 3: 35\n",
      "Proporcion: 1.0 : clase[0] / clase[1]\n",
      "Proporcion: 1.0 : clase[0] / clase[2]\n",
      "Proporcion: 1.0 : clase[0] / clase[3]\n"
     ]
    },
    {
     "data": {
      "image/png": "[encoded data removed]",
      "text/plain": [
       "<Figure size 432x288 with 1 Axes>"
      ]
     },
     "metadata": {},
     "output_type": "display_data"
    }
   ],
   "source": [
    "import numpy as np\n",
    "import pandas as pd\n",
    "\n",
    "target_count = ds_meclasampled['C'].value_counts() \n",
    "print('Clase 0:', target_count[0])\n",
    "print('Clase 1:', target_count[1])\n",
    "print('Clase 2:', target_count[2])\n",
    "print('Clase 3:', target_count[3])\n",
    "print('Proporcion:', round(target_count[0] / target_count[1]  , 2), ': clase[0] / clase[1]')\n",
    "print('Proporcion:', round(target_count[0] / target_count[2]  , 2), ': clase[0] / clase[2]')\n",
    "print('Proporcion:', round(target_count[0] / target_count[3]  , 2), ': clase[0] / clase[3]')\n",
    "target_count.plot(kind='bar', title='Contador  (Clases)');"
   ]
  },
  {
   "cell_type": "code",
   "execution_count": 38,
   "metadata": {},
   "outputs": [
    {
     "name": "stdout",
     "output_type": "stream",
     "text": [
      "\n",
      "############## Accuracy Linear SVM FINAL ##################\n",
      "0.8816872427983539\n",
      "[[830  31  28  46]\n",
      " [  1   8   2   0]\n",
      " [  1   5   3   0]\n",
      " [  0   0   1  16]]\n",
      "              precision    recall  f1-score   support\n",
      "\n",
      "           0       1.00      0.89      0.94       935\n",
      "           1       0.18      0.73      0.29        11\n",
      "           2       0.09      0.33      0.14         9\n",
      "           3       0.26      0.94      0.41        17\n",
      "\n",
      "   micro avg       0.88      0.88      0.88       972\n",
      "   macro avg       0.38      0.72      0.44       972\n",
      "weighted avg       0.97      0.88      0.92       972\n",
      "\n"
     ]
    }
   ],
   "source": [
    "x_train =ds_meclasampled.drop('C', axis = 1)\n",
    "y_train = ds_meclasampled['C']\n",
    "\n",
    "########################################################################\n",
    "#################### Linear SVM FINAL ##################################\n",
    "\n",
    "SVM = svm.LinearSVC(dual=False , C=10 )\n",
    "SVM.fit(x_train,y_train)\n",
    "\n",
    "SVM_predict = SVM.predict(x_test)\n",
    "\n",
    "print(\"\\n############## Accuracy Linear SVM FINAL ##################\")\n",
    "print(metrics.accuracy_score(y_test, SVM_predict))\n",
    "print(metrics.confusion_matrix(y_test, SVM_predict))\n",
    "print(classification_report(y_test,SVM_predict))"
   ]
  },
  {
   "cell_type": "code",
   "execution_count": null,
   "metadata": {},
   "outputs": [],
   "source": [
    "print(__doc__)\n",
    "\n",
    "import numpy as np\n",
    "import matplotlib.pyplot as plt\n",
    "from sklearn import svm, datasets\n",
    "\n",
    "\n",
    "def make_meshgrid(x, y, h=.02):\n",
    "    \"\"\"Create a mesh of points to plot in\n",
    "\n",
    "    Parameters\n",
    "    ----------\n",
    "    x: data to base x-axis meshgrid on\n",
    "    y: data to base y-axis meshgrid on\n",
    "    h: stepsize for meshgrid, optional\n",
    "\n",
    "    Returns\n",
    "    -------\n",
    "    xx, yy : ndarray\n",
    "    \"\"\"\n",
    "    x_min, x_max = x.min() - 1, x.max() + 1\n",
    "    y_min, y_max = y.min() - 1, y.max() + 1\n",
    "    xx, yy = np.meshgrid(np.arange(x_min, x_max, h),\n",
    "                         np.arange(y_min, y_max, h))\n",
    "    return xx, yy\n",
    "\n",
    "\n",
    "def plot_contours(ax, clf, xx, yy, **params):\n",
    "    \"\"\"Plot the decision boundaries for a classifier.\n",
    "\n",
    "    Parameters\n",
    "    ----------\n",
    "    ax: matplotlib axes object\n",
    "    clf: a classifier\n",
    "    xx: meshgrid ndarray\n",
    "    yy: meshgrid ndarray\n",
    "    params: dictionary of params to pass to contourf, optional\n",
    "    \"\"\"\n",
    "    Z = clf.predict(np.c_[xx.ravel(), yy.ravel()])\n",
    "    Z = Z.reshape(xx.shape)\n",
    "    out = ax.contourf(xx, yy, Z, **params)\n",
    "    return out\n",
    "\n",
    "\n",
    "# Take the first two features. We could avoid this by using a two-dim dataset\n",
    "\n",
    "X =  x_stestval[['campaign','previous']]\n",
    "\n",
    "y= y_stestval\n",
    "\n",
    "\n",
    "# Creamos una instancia de SVM y ajustamos los datos. No escalamos nuestro\n",
    "# datos ya que queremos trazar los vectores de soporte\n",
    "C = 1.0  # SVM regularization parameter\n",
    "models = (svm.SVC(kernel='linear', C=C),\n",
    "          svm.LinearSVC(C=C))#,\n",
    "          #svm.SVC(kernel='rbf', gamma=0.7, C=C),\n",
    "          #svm.SVC(kernel='poly', degree=3, C=C))\n",
    "models = (clf.fit(X, y) for clf in models)\n",
    "\n",
    "# title for the plots\n",
    "titles = ('SVC with linear kernel',\n",
    "          'LinearSVC (linear kernel)'),\n",
    "          #'SVC with RBF kernel',\n",
    "          #'SVC with polynomial (degree 3) kernel')\n",
    "\n",
    "# Set-up 2x2 grid for plotting.\n",
    "fig, sub = plt.subplots(2, 2)\n",
    "plt.subplots_adjust(wspace=0.4, hspace=0.4)\n",
    "\n",
    "X0, X1 = X['campaign'], X['c']\n",
    "xx, yy = make_meshgrid(X0, X1)\n",
    "\n",
    "for clf, title, ax in zip(models, titles, sub.flatten()):\n",
    "    plot_contours(ax, clf, xx, yy,\n",
    "                  cmap=plt.cm.coolwarm, alpha=0.8)\n",
    "    ax.scatter(X0, X1, c=y, cmap=plt.cm.coolwarm, s=20, edgecolors='k')\n",
    "    ax.set_xlim(xx.min(), xx.max())\n",
    "    ax.set_ylim(yy.min(), yy.max())\n",
    "    ax.set_xlabel('campaign')\n",
    "    ax.set_ylabel('previous')\n",
    "    ax.set_xticks(())\n",
    "    ax.set_yticks(())\n",
    "    ax.set_title(title)\n",
    "\n",
    "plt.show()"
   ]
  }
 ],
 "metadata": {
  "kernelspec": {
   "display_name": "Python 3",
   "language": "python",
   "name": "python3"
  },
  "language_info": {
   "codemirror_mode": {
    "name": "ipython",
    "version": 3
   },
   "file_extension": ".py",
   "mimetype": "text/x-python",
   "name": "python",
   "nbconvert_exporter": "python",
   "pygments_lexer": "ipython3",
   "version": "3.6.5"
  }
 },
 "nbformat": 4,
 "nbformat_minor": 2
}
