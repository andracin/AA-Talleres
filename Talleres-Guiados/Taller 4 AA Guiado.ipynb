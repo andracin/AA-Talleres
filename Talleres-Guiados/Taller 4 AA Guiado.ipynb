{
 "cells": [
  {
   "cell_type": "markdown",
   "metadata": {},
   "source": [
    "# Aprendizaje Automático\n",
    "## Cuarta práctica\n",
    "---\n",
    "Para la cuarta práctica del curso de aprendizaje automático, se utilizará el mismo conjunto de datos que pertenece al repositorio especial de Machine Learning de la [UCI](https://archive.ics.uci.edu/ml). El conjunto de datos se llama \"Adult\" y toda la información correspondiente al mismo se encuentra [aquí](https://archive.ics.uci.edu/ml/datasets/Adult).\n",
    "\n",
    "---\n",
    "### Perceptrones Multicapa, Redes LSTM y Redes Convolucionales\n",
    "\n",
    "---\n",
    "Dado que en principio se requieren cargar los datos del conjunto de datos Adult, es necesario cargar los datos tanto de entrenamiento como de prueba del conjunto de datos. __Se utilizó Sci-kit para MLP y keras (tensorflow) para LSTM__"
   ]
  },
  {
   "cell_type": "code",
   "execution_count": 1,
   "metadata": {},
   "outputs": [
    {
     "name": "stderr",
     "output_type": "stream",
     "text": [
      "/home/mario/anaconda3/lib/python3.6/site-packages/sklearn/cross_validation.py:41: DeprecationWarning: This module was deprecated in version 0.18 in favor of the model_selection module into which all the refactored classes and functions are moved. Also note that the interface of the new CV iterators are different from that of this module. This module will be removed in 0.20.\n",
      "  \"This module will be removed in 0.20.\", DeprecationWarning)\n"
     ]
    }
   ],
   "source": [
    "import numpy as np\n",
    "import pandas as pd\n",
    "import matplotlib.pyplot as plt\n",
    "from sklearn.cross_validation import train_test_split\n",
    "from sklearn.tree import DecisionTreeClassifier\n",
    "import itertools\n",
    "from sklearn import metrics\n",
    "from sklearn.model_selection import train_test_split\n",
    "from sklearn import preprocessing\n",
    "from sklearn import tree\n",
    "from sklearn import svm\n",
    "import matplotlib.pyplot as plt\n",
    "%matplotlib inline \n",
    "import seaborn as sns\n",
    "from sklearn import neighbors\n",
    "import io\n",
    "import requests"
   ]
  },
  {
   "cell_type": "code",
   "execution_count": 2,
   "metadata": {},
   "outputs": [],
   "source": [
    "url=\"https://archive.ics.uci.edu/ml/machine-learning-databases/adult/adult.data\"\n",
    "ds_ = pd.read_csv(url, header=None, na_values=\" ?\")\n",
    "ds = ds_.dropna()\n",
    "ds = ds.rename(columns = {ds.columns.values[14]:'C'}) # Cambiamos el nombre de la última columna por \"C\" de clase\n",
    "le = preprocessing.LabelEncoder() # Label encoder de sci-kit\n",
    "ds = ds.apply(le.fit_transform) # Convertimos los valores de object a int\n",
    "class_names = ['Age', 'Workclass', 'Fnlwgt', 'Education', 'Education-num', 'Marital-status', 'Occupation',\n",
    "              'Relationship', 'Race', 'Sex', 'Capital-gain', 'Capital-loss', 'Hpw', 'Country']"
   ]
  },
  {
   "cell_type": "code",
   "execution_count": 3,
   "metadata": {},
   "outputs": [],
   "source": [
    "urltest = \"https://archive.ics.uci.edu/ml/machine-learning-databases/adult/adult.test\"\n",
    "test_ = pd.read_csv(urltest, skiprows=1, header=None, na_values=\" ?\")\n",
    "test = test_.dropna()\n",
    "test = test.rename(columns = {test.columns.values[14]:'C'}) # Cambiamos el nombre de la última columna por \"C\" de clases = test.apply(le.fit_transform) # Convertimos los valores de object a int\n",
    "test = test.apply(le.fit_transform) # Convertimos los valores de object a int"
   ]
  },
  {
   "cell_type": "markdown",
   "metadata": {},
   "source": [
    "En este taller se debe extraer aleatoriamente un 10% de los datos del conjunto de entrenamiento. Este subconjunto constituirá el conjunto de validación, que se usará para estimar los valores de los parámetros en las técnicas que así lo requieran. Todas las técnicas deberán entrenarse con el mismo conjunto de entrenamiento para que sea posible comparar sus desempeños. En la siguiente celda, se divide el conjunto de entrenamiento como se enunció. La técnica de Perceptrones Multicapas se puede trabajar con la librería Sklearn, pero las redes LSTM y Convolucionales, requieren del uso de la librería de Google, Tensorflow."
   ]
  },
  {
   "cell_type": "code",
   "execution_count": 4,
   "metadata": {},
   "outputs": [
    {
     "name": "stdout",
     "output_type": "stream",
     "text": [
      "Original dataset shape trainval Counter({0: 20389, 1: 6756})\n",
      "Original dataset shape testval Counter({0: 2265, 1: 752})\n"
     ]
    }
   ],
   "source": [
    "x_train = ds.drop('C', axis = 1)\n",
    "y_train = ds['C']\n",
    "\n",
    "x_test = test.drop('C', axis = 1)\n",
    "y_test = test['C']\n",
    "\n",
    "from collections import Counter\n",
    "\n",
    "x_strainval, x_stestval, y_strainval, y_stestval = train_test_split(x_train, y_train, test_size = 0.10)\n",
    "print('Original dataset shape trainval {}'.format(Counter(y_strainval)))\n",
    "print('Original dataset shape testval {}'.format(Counter(y_stestval)))"
   ]
  },
  {
   "cell_type": "markdown",
   "metadata": {},
   "source": [
    "### Perceptrones Multicapa\n",
    "\n",
    "---\n",
    "En la siguiente celda, se entrenan 2 Perceptrones Multicapa con el subconjunto de validación. Se estimó la arquitectura más eficiente, como también la tasa de aprendizaje que arrojaba mejores resultados."
   ]
  },
  {
   "cell_type": "code",
   "execution_count": 5,
   "metadata": {},
   "outputs": [
    {
     "name": "stdout",
     "output_type": "stream",
     "text": [
      "\n",
      "############## Accuracy MLP ##################\n",
      "0.7905203844879019\n",
      "[[2210   55]\n",
      " [ 577  175]]\n"
     ]
    },
    {
     "data": {
      "image/png": "[encoded data removed]",
      "text/plain": [
       "<Figure size 432x288 with 2 Axes>"
      ]
     },
     "metadata": {},
     "output_type": "display_data"
    },
    {
     "name": "stdout",
     "output_type": "stream",
     "text": [
      "\n",
      "############## Accuracy MLP ##################\n",
      "0.7795823665893271\n",
      "[[2124  141]\n",
      " [ 524  228]]\n"
     ]
    },
    {
     "data": {
      "image/png": "[encoded data removed]",
      "text/plain": [
       "<Figure size 432x288 with 2 Axes>"
      ]
     },
     "metadata": {},
     "output_type": "display_data"
    }
   ],
   "source": [
    "#### ensayar diferentes opciones de arquitectura y estimar la tasa de aprendizaje\n",
    "\n",
    "from sklearn.neural_network import MLPClassifier\n",
    "from sklearn.preprocessing import StandardScaler  \n",
    "\n",
    "clf = MLPClassifier(hidden_layer_sizes=(13, 13, 13, 13, 13, 13), \n",
    "                    random_state=42, learning_rate_init=0.0016)\n",
    "clf.fit(x_strainval, y_strainval)\n",
    "\n",
    "clf_predict = clf.predict(x_stestval)\n",
    "\n",
    "print(\"\\n############## Accuracy MLP ##################\")\n",
    "print(metrics.accuracy_score(y_stestval, clf_predict))\n",
    "print(metrics.confusion_matrix(y_stestval, clf_predict))\n",
    "\n",
    "sns.heatmap(metrics.confusion_matrix(y_stestval, clf_predict), center=True)\n",
    "plt.show()\n",
    "\n",
    "##########################################################################\n",
    "\n",
    "clf2 = MLPClassifier(hidden_layer_sizes=(10, 10, 10, 10), \n",
    "                    random_state=42, learning_rate_init=0.001)\n",
    "clf2.fit(x_strainval, y_strainval)\n",
    "\n",
    "clf2_predict = clf2.predict(x_stestval)\n",
    "\n",
    "print(\"\\n############## Accuracy MLP ##################\")\n",
    "print(metrics.accuracy_score(y_stestval, clf2_predict))\n",
    "print(metrics.confusion_matrix(y_stestval, clf2_predict))\n",
    "\n",
    "sns.heatmap(metrics.confusion_matrix(y_stestval, clf2_predict), center=True)\n",
    "plt.show()"
   ]
  },
  {
   "cell_type": "markdown",
   "metadata": {},
   "source": [
    "Ahora, se entrena el perceptrón muticapa elegido con el conjunto de prueba original"
   ]
  },
  {
   "cell_type": "code",
   "execution_count": 6,
   "metadata": {},
   "outputs": [
    {
     "name": "stdout",
     "output_type": "stream",
     "text": [
      "\n",
      "############## Accuracy MLP ##################\n",
      "0.802523240371846\n",
      "[[10953   407]\n",
      " [ 2567  1133]]\n"
     ]
    },
    {
     "data": {
      "image/png": "[encoded data removed]",
      "text/plain": [
       "<Figure size 432x288 with 2 Axes>"
      ]
     },
     "metadata": {},
     "output_type": "display_data"
    }
   ],
   "source": [
    "clf.fit(x_train, y_train)\n",
    "\n",
    "clf_predict2 = clf.predict(x_test)\n",
    "\n",
    "print(\"\\n############## Accuracy MLP ##################\")\n",
    "print(metrics.accuracy_score(y_test, clf_predict2))\n",
    "print(metrics.confusion_matrix(y_test, clf_predict2))\n",
    "\n",
    "sns.heatmap(metrics.confusion_matrix(y_test, clf_predict2), center=True)\n",
    "plt.show()"
   ]
  },
  {
   "cell_type": "markdown",
   "metadata": {},
   "source": [
    "### Redes LSTM\n",
    "\n",
    "---\n",
    "Para trabajar con las redes LSTM, se utilizó el modulo Keras de Tensorflow."
   ]
  },
  {
   "cell_type": "code",
   "execution_count": 7,
   "metadata": {},
   "outputs": [
    {
     "name": "stderr",
     "output_type": "stream",
     "text": [
      "/home/mario/anaconda3/lib/python3.6/site-packages/h5py/__init__.py:36: FutureWarning: Conversion of the second argument of issubdtype from `float` to `np.floating` is deprecated. In future, it will be treated as `np.float64 == np.dtype(float).type`.\n",
      "  from ._conv import register_converters as _register_converters\n"
     ]
    }
   ],
   "source": [
    "import tensorflow as tf\n",
    "from tensorflow import keras\n",
    "from tensorflow.keras.models import Sequential\n",
    "from tensorflow.keras.layers import Dense\n",
    "from tensorflow.keras.layers import LSTM\n",
    "from tensorflow.keras.layers import Embedding\n",
    "from sklearn.preprocessing import MinMaxScaler\n",
    "from sklearn.metrics import mean_squared_error\n",
    "from sklearn.metrics import classification_report, confusion_matrix"
   ]
  },
  {
   "cell_type": "markdown",
   "metadata": {},
   "source": [
    "Se crea el modelo de la red y se entrena una LSTM con los datos del corpus, determinando el número de epochs y batch_size."
   ]
  },
  {
   "cell_type": "code",
   "execution_count": 16,
   "metadata": {
    "scrolled": true
   },
   "outputs": [
    {
     "name": "stdout",
     "output_type": "stream",
     "text": [
      "_________________________________________________________________\n",
      "Layer (type)                 Output Shape              Param #   \n",
      "=================================================================\n",
      "embedding_4 (Embedding)      (None, 14, 14)            350000    \n",
      "_________________________________________________________________\n",
      "lstm_4 (LSTM)                (None, 2)                 136       \n",
      "_________________________________________________________________\n",
      "dense_4 (Dense)              (None, 1)                 3         \n",
      "=================================================================\n",
      "Total params: 350,139\n",
      "Trainable params: 350,139\n",
      "Non-trainable params: 0\n",
      "_________________________________________________________________\n",
      "None\n"
     ]
    },
    {
     "name": "stderr",
     "output_type": "stream",
     "text": [
      "/home/mario/anaconda3/lib/python3.6/site-packages/tensorflow/python/ops/gradients_impl.py:108: UserWarning: Converting sparse IndexedSlices to a dense Tensor of unknown shape. This may consume a large amount of memory.\n",
      "  \"Converting sparse IndexedSlices to a dense Tensor of unknown shape. \"\n",
      "/home/mario/anaconda3/lib/python3.6/site-packages/tensorflow/python/ops/gradients_impl.py:108: UserWarning: Converting sparse IndexedSlices to a dense Tensor of unknown shape. This may consume a large amount of memory.\n",
      "  \"Converting sparse IndexedSlices to a dense Tensor of unknown shape. \"\n"
     ]
    },
    {
     "name": "stdout",
     "output_type": "stream",
     "text": [
      "Epoch 1/3\n",
      "30162/30162 [==============================] - 8s 271us/step - loss: 0.5627 - acc: 0.7297\n",
      "Epoch 2/3\n",
      "30162/30162 [==============================] - 7s 234us/step - loss: 0.4191 - acc: 0.8180\n",
      "Epoch 3/3\n",
      "30162/30162 [==============================] - 7s 236us/step - loss: 0.3566 - acc: 0.8460\n"
     ]
    },
    {
     "data": {
      "text/plain": [
       "<tensorflow.python.keras.callbacks.History at 0x7f3e08261438>"
      ]
     },
     "execution_count": 16,
     "metadata": {},
     "output_type": "execute_result"
    }
   ],
   "source": [
    "evl = 14 # tamaño del vector de entrada\n",
    "model = Sequential()\n",
    "model.add(Embedding(25000, evl , input_length=14))\n",
    "model.add(LSTM(2))\n",
    "model.add(Dense(1, activation='sigmoid'))\n",
    "model.compile(loss='binary_crossentropy', optimizer='adam', metrics=['accuracy'])\n",
    "print(model.summary())\n",
    "model.fit(x_train, y_train, epochs=3, batch_size=64)"
   ]
  },
  {
   "cell_type": "markdown",
   "metadata": {},
   "source": [
    "Luego de entrenar la red LSTM, se evalua el desempeño de la misma con la correspondiente Matriz de Confusión y Accuracy."
   ]
  },
  {
   "cell_type": "code",
   "execution_count": 17,
   "metadata": {},
   "outputs": [
    {
     "name": "stdout",
     "output_type": "stream",
     "text": [
      "########################\n",
      "Confusion Matrix \n",
      "\n",
      "Predicted   0.0   1.0\n",
      "Actual               \n",
      "0          8918  1578\n",
      "1          2892   551 \n",
      "\n",
      "########################\n",
      "Accuracy: 81.2417\n",
      "\n"
     ]
    }
   ],
   "source": [
    "# Evaluación de la red \n",
    "\n",
    "predictions = model.predict(x_test, batch_size= 64)\n",
    "\n",
    "# ---\n",
    "rounded = [round(x[0]) for x in predictions]\n",
    "\n",
    "y_pred = pd.DataFrame(rounded)\n",
    "y_pred = y_pred.iloc[:, 0]\n",
    "\n",
    "print('########################')\n",
    "\n",
    "print( \"Confusion Matrix \\n\")\n",
    "\n",
    "print(pd.crosstab(y_test, y_pred, rownames=['Actual'], colnames=['Predicted']), '\\n')\n",
    "\n",
    "print('########################')\n",
    "Acc = metrics.accuracy_score(y_test, y_pred)\n",
    "print('Accuracy: %.4f\\n'  % (Acc*100) )"
   ]
  }
 ],
 "metadata": {
  "kernelspec": {
   "display_name": "Python 3",
   "language": "python",
   "name": "python3"
  },
  "language_info": {
   "codemirror_mode": {
    "name": "ipython",
    "version": 3
   },
   "file_extension": ".py",
   "mimetype": "text/x-python",
   "name": "python",
   "nbconvert_exporter": "python",
   "pygments_lexer": "ipython3",
   "version": "3.6.5"
  }
 },
 "nbformat": 4,
 "nbformat_minor": 2
}
